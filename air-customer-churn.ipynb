{
 "cells": [
  {
   "cell_type": "code",
   "execution_count": 1,
   "id": "1543d833",
   "metadata": {
    "_cell_guid": "b1076dfc-b9ad-4769-8c92-a6c4dae69d19",
    "_uuid": "8f2839f25d086af736a60e9eeb907d3b93b6e0e5",
    "execution": {
     "iopub.execute_input": "2024-06-04T10:09:54.246196Z",
     "iopub.status.busy": "2024-06-04T10:09:54.245432Z",
     "iopub.status.idle": "2024-06-04T10:09:54.259031Z",
     "shell.execute_reply": "2024-06-04T10:09:54.257801Z"
    },
    "papermill": {
     "duration": 0.025896,
     "end_time": "2024-06-04T10:09:54.261029",
     "exception": false,
     "start_time": "2024-06-04T10:09:54.235133",
     "status": "completed"
    },
    "tags": []
   },
   "outputs": [
    {
     "name": "stdout",
     "output_type": "stream",
     "text": [
      "/kaggle/input/aviakompaniya/sample_submission.csv\n",
      "/kaggle/input/aviakompaniya/train_dataset.csv\n",
      "/kaggle/input/aviakompaniya/test_dataset.csv\n"
     ]
    }
   ],
   "source": [
    "# This Python 3 environment comes with many helpful analytics libraries installed\n",
    "# It is defined by the kaggle/python Docker image: https://github.com/kaggle/docker-python\n",
    "# For example, running this (by clicking run or pressing Shift+Enter) will list all files under the input directory\n",
    "\n",
    "import os\n",
    "for dirname, _, filenames in os.walk('/kaggle/input'):\n",
    "    for filename in filenames:\n",
    "        print(os.path.join(dirname, filename))\n",
    "\n",
    "# You can write up to 20GB to the current directory (/kaggle/working/) that gets preserved as output when you create a version using \"Save & Run All\" \n",
    "# You can also write temporary files to /kaggle/temp/, but they won't be saved outside of the current session"
   ]
  },
  {
   "cell_type": "markdown",
   "id": "2a528562",
   "metadata": {
    "papermill": {
     "duration": 0.008356,
     "end_time": "2024-06-04T10:09:54.277762",
     "exception": false,
     "start_time": "2024-06-04T10:09:54.269406",
     "status": "completed"
    },
    "tags": []
   },
   "source": [
    "Kutubxonalarni chaqirish"
   ]
  },
  {
   "cell_type": "code",
   "execution_count": 2,
   "id": "55ad0031",
   "metadata": {
    "execution": {
     "iopub.execute_input": "2024-06-04T10:09:54.295579Z",
     "iopub.status.busy": "2024-06-04T10:09:54.295292Z",
     "iopub.status.idle": "2024-06-04T10:10:01.163800Z",
     "shell.execute_reply": "2024-06-04T10:10:01.162965Z"
    },
    "papermill": {
     "duration": 6.879774,
     "end_time": "2024-06-04T10:10:01.166116",
     "exception": false,
     "start_time": "2024-06-04T10:09:54.286342",
     "status": "completed"
    },
    "tags": []
   },
   "outputs": [],
   "source": [
    "import pandas as pd\n",
    "import numpy as np\n",
    "import matplotlib.pyplot as plt\n",
    "import seaborn as sns\n",
    "\n",
    "from sklearn.model_selection import train_test_split\n",
    "from sklearn.preprocessing import OneHotEncoder, MinMaxScaler, StandardScaler, LabelEncoder\n",
    "\n",
    "from sklearn.ensemble import RandomForestClassifier\n",
    "from sklearn.neighbors import KNeighborsClassifier\n",
    "from xgboost import XGBClassifier\n",
    "import lightgbm as lgb\n",
    "\n",
    "from sklearn.pipeline import Pipeline\n",
    "from sklearn.compose import ColumnTransformer\n",
    "from sklearn.impute import SimpleImputer\n",
    "from sklearn import metrics \n",
    "from sklearn.metrics import classification_report\n",
    "from sklearn.metrics import confusion_matrix\n",
    "from sklearn.metrics import jaccard_score\n",
    "from sklearn.model_selection import cross_val_score"
   ]
  },
  {
   "cell_type": "markdown",
   "id": "2e513d84",
   "metadata": {
    "papermill": {
     "duration": 0.008023,
     "end_time": "2024-06-04T10:10:01.182726",
     "exception": false,
     "start_time": "2024-06-04T10:10:01.174703",
     "status": "completed"
    },
    "tags": []
   },
   "source": [
    "Malumotni yuklash va o'rganish"
   ]
  },
  {
   "cell_type": "code",
   "execution_count": 3,
   "id": "4d0c56c5",
   "metadata": {
    "execution": {
     "iopub.execute_input": "2024-06-04T10:10:01.200246Z",
     "iopub.status.busy": "2024-06-04T10:10:01.199586Z",
     "iopub.status.idle": "2024-06-04T10:10:01.295398Z",
     "shell.execute_reply": "2024-06-04T10:10:01.294590Z"
    },
    "papermill": {
     "duration": 0.106704,
     "end_time": "2024-06-04T10:10:01.297455",
     "exception": false,
     "start_time": "2024-06-04T10:10:01.190751",
     "status": "completed"
    },
    "tags": []
   },
   "outputs": [
    {
     "data": {
      "text/html": [
       "<div>\n",
       "<style scoped>\n",
       "    .dataframe tbody tr th:only-of-type {\n",
       "        vertical-align: middle;\n",
       "    }\n",
       "\n",
       "    .dataframe tbody tr th {\n",
       "        vertical-align: top;\n",
       "    }\n",
       "\n",
       "    .dataframe thead th {\n",
       "        text-align: right;\n",
       "    }\n",
       "</style>\n",
       "<table border=\"1\" class=\"dataframe\">\n",
       "  <thead>\n",
       "    <tr style=\"text-align: right;\">\n",
       "      <th></th>\n",
       "      <th>Gender</th>\n",
       "      <th>Customer Type</th>\n",
       "      <th>Age</th>\n",
       "      <th>Type of Travel</th>\n",
       "      <th>Class</th>\n",
       "      <th>Flight Distance</th>\n",
       "      <th>Inflight wifi service</th>\n",
       "      <th>Departure/Arrival time convenient</th>\n",
       "      <th>Ease of Online booking</th>\n",
       "      <th>Gate location</th>\n",
       "      <th>...</th>\n",
       "      <th>Inflight entertainment</th>\n",
       "      <th>On-board service</th>\n",
       "      <th>Leg room service</th>\n",
       "      <th>Baggage handling</th>\n",
       "      <th>Checkin service</th>\n",
       "      <th>Inflight service</th>\n",
       "      <th>Cleanliness</th>\n",
       "      <th>Departure Delay in Minutes</th>\n",
       "      <th>Arrival Delay in Minutes</th>\n",
       "      <th>satisfaction</th>\n",
       "    </tr>\n",
       "    <tr>\n",
       "      <th>id</th>\n",
       "      <th></th>\n",
       "      <th></th>\n",
       "      <th></th>\n",
       "      <th></th>\n",
       "      <th></th>\n",
       "      <th></th>\n",
       "      <th></th>\n",
       "      <th></th>\n",
       "      <th></th>\n",
       "      <th></th>\n",
       "      <th></th>\n",
       "      <th></th>\n",
       "      <th></th>\n",
       "      <th></th>\n",
       "      <th></th>\n",
       "      <th></th>\n",
       "      <th></th>\n",
       "      <th></th>\n",
       "      <th></th>\n",
       "      <th></th>\n",
       "      <th></th>\n",
       "    </tr>\n",
       "  </thead>\n",
       "  <tbody>\n",
       "    <tr>\n",
       "      <th>1</th>\n",
       "      <td>Male</td>\n",
       "      <td>disloyal Customer</td>\n",
       "      <td>33</td>\n",
       "      <td>Business travel</td>\n",
       "      <td>Eco</td>\n",
       "      <td>571</td>\n",
       "      <td>2</td>\n",
       "      <td>3</td>\n",
       "      <td>2</td>\n",
       "      <td>4</td>\n",
       "      <td>...</td>\n",
       "      <td>4</td>\n",
       "      <td>3</td>\n",
       "      <td>1</td>\n",
       "      <td>3</td>\n",
       "      <td>4</td>\n",
       "      <td>3</td>\n",
       "      <td>4</td>\n",
       "      <td>10</td>\n",
       "      <td>3.0</td>\n",
       "      <td>0</td>\n",
       "    </tr>\n",
       "    <tr>\n",
       "      <th>2</th>\n",
       "      <td>Female</td>\n",
       "      <td>Loyal Customer</td>\n",
       "      <td>49</td>\n",
       "      <td>Business travel</td>\n",
       "      <td>Business</td>\n",
       "      <td>1431</td>\n",
       "      <td>4</td>\n",
       "      <td>1</td>\n",
       "      <td>4</td>\n",
       "      <td>4</td>\n",
       "      <td>...</td>\n",
       "      <td>5</td>\n",
       "      <td>5</td>\n",
       "      <td>5</td>\n",
       "      <td>5</td>\n",
       "      <td>3</td>\n",
       "      <td>5</td>\n",
       "      <td>3</td>\n",
       "      <td>0</td>\n",
       "      <td>0.0</td>\n",
       "      <td>1</td>\n",
       "    </tr>\n",
       "    <tr>\n",
       "      <th>3</th>\n",
       "      <td>Female</td>\n",
       "      <td>Loyal Customer</td>\n",
       "      <td>43</td>\n",
       "      <td>Business travel</td>\n",
       "      <td>Eco</td>\n",
       "      <td>867</td>\n",
       "      <td>1</td>\n",
       "      <td>4</td>\n",
       "      <td>4</td>\n",
       "      <td>4</td>\n",
       "      <td>...</td>\n",
       "      <td>1</td>\n",
       "      <td>1</td>\n",
       "      <td>1</td>\n",
       "      <td>1</td>\n",
       "      <td>1</td>\n",
       "      <td>1</td>\n",
       "      <td>2</td>\n",
       "      <td>0</td>\n",
       "      <td>18.0</td>\n",
       "      <td>0</td>\n",
       "    </tr>\n",
       "    <tr>\n",
       "      <th>4</th>\n",
       "      <td>Female</td>\n",
       "      <td>Loyal Customer</td>\n",
       "      <td>27</td>\n",
       "      <td>Business travel</td>\n",
       "      <td>Business</td>\n",
       "      <td>1550</td>\n",
       "      <td>3</td>\n",
       "      <td>3</td>\n",
       "      <td>3</td>\n",
       "      <td>3</td>\n",
       "      <td>...</td>\n",
       "      <td>2</td>\n",
       "      <td>4</td>\n",
       "      <td>4</td>\n",
       "      <td>5</td>\n",
       "      <td>5</td>\n",
       "      <td>4</td>\n",
       "      <td>2</td>\n",
       "      <td>0</td>\n",
       "      <td>0.0</td>\n",
       "      <td>1</td>\n",
       "    </tr>\n",
       "    <tr>\n",
       "      <th>5</th>\n",
       "      <td>Male</td>\n",
       "      <td>Loyal Customer</td>\n",
       "      <td>11</td>\n",
       "      <td>Personal Travel</td>\n",
       "      <td>Eco</td>\n",
       "      <td>526</td>\n",
       "      <td>3</td>\n",
       "      <td>4</td>\n",
       "      <td>3</td>\n",
       "      <td>2</td>\n",
       "      <td>...</td>\n",
       "      <td>4</td>\n",
       "      <td>5</td>\n",
       "      <td>2</td>\n",
       "      <td>5</td>\n",
       "      <td>3</td>\n",
       "      <td>5</td>\n",
       "      <td>4</td>\n",
       "      <td>0</td>\n",
       "      <td>10.0</td>\n",
       "      <td>0</td>\n",
       "    </tr>\n",
       "    <tr>\n",
       "      <th>6</th>\n",
       "      <td>Male</td>\n",
       "      <td>Loyal Customer</td>\n",
       "      <td>30</td>\n",
       "      <td>Personal Travel</td>\n",
       "      <td>Eco Plus</td>\n",
       "      <td>1034</td>\n",
       "      <td>2</td>\n",
       "      <td>4</td>\n",
       "      <td>2</td>\n",
       "      <td>2</td>\n",
       "      <td>...</td>\n",
       "      <td>5</td>\n",
       "      <td>4</td>\n",
       "      <td>5</td>\n",
       "      <td>5</td>\n",
       "      <td>4</td>\n",
       "      <td>4</td>\n",
       "      <td>5</td>\n",
       "      <td>0</td>\n",
       "      <td>0.0</td>\n",
       "      <td>0</td>\n",
       "    </tr>\n",
       "    <tr>\n",
       "      <th>7</th>\n",
       "      <td>Male</td>\n",
       "      <td>Loyal Customer</td>\n",
       "      <td>38</td>\n",
       "      <td>Business travel</td>\n",
       "      <td>Eco</td>\n",
       "      <td>826</td>\n",
       "      <td>5</td>\n",
       "      <td>1</td>\n",
       "      <td>1</td>\n",
       "      <td>1</td>\n",
       "      <td>...</td>\n",
       "      <td>5</td>\n",
       "      <td>1</td>\n",
       "      <td>4</td>\n",
       "      <td>4</td>\n",
       "      <td>5</td>\n",
       "      <td>4</td>\n",
       "      <td>5</td>\n",
       "      <td>2</td>\n",
       "      <td>5.0</td>\n",
       "      <td>1</td>\n",
       "    </tr>\n",
       "  </tbody>\n",
       "</table>\n",
       "<p>7 rows × 23 columns</p>\n",
       "</div>"
      ],
      "text/plain": [
       "    Gender      Customer Type  Age   Type of Travel     Class  \\\n",
       "id                                                              \n",
       "1     Male  disloyal Customer   33  Business travel       Eco   \n",
       "2   Female     Loyal Customer   49  Business travel  Business   \n",
       "3   Female     Loyal Customer   43  Business travel       Eco   \n",
       "4   Female     Loyal Customer   27  Business travel  Business   \n",
       "5     Male     Loyal Customer   11  Personal Travel       Eco   \n",
       "6     Male     Loyal Customer   30  Personal Travel  Eco Plus   \n",
       "7     Male     Loyal Customer   38  Business travel       Eco   \n",
       "\n",
       "    Flight Distance  Inflight wifi service  Departure/Arrival time convenient  \\\n",
       "id                                                                              \n",
       "1               571                      2                                  3   \n",
       "2              1431                      4                                  1   \n",
       "3               867                      1                                  4   \n",
       "4              1550                      3                                  3   \n",
       "5               526                      3                                  4   \n",
       "6              1034                      2                                  4   \n",
       "7               826                      5                                  1   \n",
       "\n",
       "    Ease of Online booking  Gate location  ...  Inflight entertainment  \\\n",
       "id                                         ...                           \n",
       "1                        2              4  ...                       4   \n",
       "2                        4              4  ...                       5   \n",
       "3                        4              4  ...                       1   \n",
       "4                        3              3  ...                       2   \n",
       "5                        3              2  ...                       4   \n",
       "6                        2              2  ...                       5   \n",
       "7                        1              1  ...                       5   \n",
       "\n",
       "    On-board service  Leg room service  Baggage handling  Checkin service  \\\n",
       "id                                                                          \n",
       "1                  3                 1                 3                4   \n",
       "2                  5                 5                 5                3   \n",
       "3                  1                 1                 1                1   \n",
       "4                  4                 4                 5                5   \n",
       "5                  5                 2                 5                3   \n",
       "6                  4                 5                 5                4   \n",
       "7                  1                 4                 4                5   \n",
       "\n",
       "    Inflight service  Cleanliness  Departure Delay in Minutes  \\\n",
       "id                                                              \n",
       "1                  3            4                          10   \n",
       "2                  5            3                           0   \n",
       "3                  1            2                           0   \n",
       "4                  4            2                           0   \n",
       "5                  5            4                           0   \n",
       "6                  4            5                           0   \n",
       "7                  4            5                           2   \n",
       "\n",
       "    Arrival Delay in Minutes  satisfaction  \n",
       "id                                          \n",
       "1                        3.0             0  \n",
       "2                        0.0             1  \n",
       "3                       18.0             0  \n",
       "4                        0.0             1  \n",
       "5                       10.0             0  \n",
       "6                        0.0             0  \n",
       "7                        5.0             1  \n",
       "\n",
       "[7 rows x 23 columns]"
      ]
     },
     "execution_count": 3,
     "metadata": {},
     "output_type": "execute_result"
    }
   ],
   "source": [
    "data = pd.read_csv('/kaggle/input/aviakompaniya/train_dataset.csv', index_col=0)\n",
    "data.head(7)"
   ]
  },
  {
   "cell_type": "code",
   "execution_count": 4,
   "id": "a8929761",
   "metadata": {
    "execution": {
     "iopub.execute_input": "2024-06-04T10:10:01.316163Z",
     "iopub.status.busy": "2024-06-04T10:10:01.315913Z",
     "iopub.status.idle": "2024-06-04T10:10:01.336586Z",
     "shell.execute_reply": "2024-06-04T10:10:01.335541Z"
    },
    "papermill": {
     "duration": 0.032232,
     "end_time": "2024-06-04T10:10:01.338662",
     "exception": false,
     "start_time": "2024-06-04T10:10:01.306430",
     "status": "completed"
    },
    "tags": []
   },
   "outputs": [
    {
     "name": "stdout",
     "output_type": "stream",
     "text": [
      "<class 'pandas.core.frame.DataFrame'>\n",
      "Index: 10000 entries, 1 to 10000\n",
      "Data columns (total 23 columns):\n",
      " #   Column                             Non-Null Count  Dtype  \n",
      "---  ------                             --------------  -----  \n",
      " 0   Gender                             10000 non-null  object \n",
      " 1   Customer Type                      10000 non-null  object \n",
      " 2   Age                                10000 non-null  int64  \n",
      " 3   Type of Travel                     10000 non-null  object \n",
      " 4   Class                              10000 non-null  object \n",
      " 5   Flight Distance                    10000 non-null  int64  \n",
      " 6   Inflight wifi service              10000 non-null  int64  \n",
      " 7   Departure/Arrival time convenient  10000 non-null  int64  \n",
      " 8   Ease of Online booking             10000 non-null  int64  \n",
      " 9   Gate location                      10000 non-null  int64  \n",
      " 10  Food and drink                     10000 non-null  int64  \n",
      " 11  Online boarding                    10000 non-null  int64  \n",
      " 12  Seat comfort                       10000 non-null  int64  \n",
      " 13  Inflight entertainment             10000 non-null  int64  \n",
      " 14  On-board service                   10000 non-null  int64  \n",
      " 15  Leg room service                   10000 non-null  int64  \n",
      " 16  Baggage handling                   10000 non-null  int64  \n",
      " 17  Checkin service                    10000 non-null  int64  \n",
      " 18  Inflight service                   10000 non-null  int64  \n",
      " 19  Cleanliness                        10000 non-null  int64  \n",
      " 20  Departure Delay in Minutes         10000 non-null  int64  \n",
      " 21  Arrival Delay in Minutes           9972 non-null   float64\n",
      " 22  satisfaction                       10000 non-null  int64  \n",
      "dtypes: float64(1), int64(18), object(4)\n",
      "memory usage: 1.8+ MB\n"
     ]
    }
   ],
   "source": [
    "data.info() # 1 ta ustunda nan qiymat bor"
   ]
  },
  {
   "cell_type": "code",
   "execution_count": 5,
   "id": "9df0abbb",
   "metadata": {
    "execution": {
     "iopub.execute_input": "2024-06-04T10:10:01.359626Z",
     "iopub.status.busy": "2024-06-04T10:10:01.359366Z",
     "iopub.status.idle": "2024-06-04T10:10:01.419087Z",
     "shell.execute_reply": "2024-06-04T10:10:01.418314Z"
    },
    "papermill": {
     "duration": 0.071633,
     "end_time": "2024-06-04T10:10:01.421079",
     "exception": false,
     "start_time": "2024-06-04T10:10:01.349446",
     "status": "completed"
    },
    "tags": []
   },
   "outputs": [
    {
     "data": {
      "text/html": [
       "<div>\n",
       "<style scoped>\n",
       "    .dataframe tbody tr th:only-of-type {\n",
       "        vertical-align: middle;\n",
       "    }\n",
       "\n",
       "    .dataframe tbody tr th {\n",
       "        vertical-align: top;\n",
       "    }\n",
       "\n",
       "    .dataframe thead th {\n",
       "        text-align: right;\n",
       "    }\n",
       "</style>\n",
       "<table border=\"1\" class=\"dataframe\">\n",
       "  <thead>\n",
       "    <tr style=\"text-align: right;\">\n",
       "      <th></th>\n",
       "      <th>count</th>\n",
       "      <th>mean</th>\n",
       "      <th>std</th>\n",
       "      <th>min</th>\n",
       "      <th>25%</th>\n",
       "      <th>50%</th>\n",
       "      <th>75%</th>\n",
       "      <th>max</th>\n",
       "    </tr>\n",
       "  </thead>\n",
       "  <tbody>\n",
       "    <tr>\n",
       "      <th>Age</th>\n",
       "      <td>10000.0</td>\n",
       "      <td>39.375100</td>\n",
       "      <td>14.897959</td>\n",
       "      <td>7.0</td>\n",
       "      <td>27.0</td>\n",
       "      <td>40.0</td>\n",
       "      <td>51.00</td>\n",
       "      <td>80.0</td>\n",
       "    </tr>\n",
       "    <tr>\n",
       "      <th>Flight Distance</th>\n",
       "      <td>10000.0</td>\n",
       "      <td>1229.556200</td>\n",
       "      <td>1022.281958</td>\n",
       "      <td>31.0</td>\n",
       "      <td>421.0</td>\n",
       "      <td>863.5</td>\n",
       "      <td>1806.75</td>\n",
       "      <td>4983.0</td>\n",
       "    </tr>\n",
       "    <tr>\n",
       "      <th>Inflight wifi service</th>\n",
       "      <td>10000.0</td>\n",
       "      <td>2.780200</td>\n",
       "      <td>1.362745</td>\n",
       "      <td>0.0</td>\n",
       "      <td>2.0</td>\n",
       "      <td>3.0</td>\n",
       "      <td>4.00</td>\n",
       "      <td>5.0</td>\n",
       "    </tr>\n",
       "    <tr>\n",
       "      <th>Departure/Arrival time convenient</th>\n",
       "      <td>10000.0</td>\n",
       "      <td>3.065100</td>\n",
       "      <td>1.527316</td>\n",
       "      <td>0.0</td>\n",
       "      <td>2.0</td>\n",
       "      <td>3.0</td>\n",
       "      <td>4.00</td>\n",
       "      <td>5.0</td>\n",
       "    </tr>\n",
       "    <tr>\n",
       "      <th>Ease of Online booking</th>\n",
       "      <td>10000.0</td>\n",
       "      <td>2.797800</td>\n",
       "      <td>1.421168</td>\n",
       "      <td>0.0</td>\n",
       "      <td>2.0</td>\n",
       "      <td>3.0</td>\n",
       "      <td>4.00</td>\n",
       "      <td>5.0</td>\n",
       "    </tr>\n",
       "    <tr>\n",
       "      <th>Gate location</th>\n",
       "      <td>10000.0</td>\n",
       "      <td>2.981000</td>\n",
       "      <td>1.283278</td>\n",
       "      <td>1.0</td>\n",
       "      <td>2.0</td>\n",
       "      <td>3.0</td>\n",
       "      <td>4.00</td>\n",
       "      <td>5.0</td>\n",
       "    </tr>\n",
       "    <tr>\n",
       "      <th>Food and drink</th>\n",
       "      <td>10000.0</td>\n",
       "      <td>3.214500</td>\n",
       "      <td>1.333217</td>\n",
       "      <td>0.0</td>\n",
       "      <td>2.0</td>\n",
       "      <td>3.0</td>\n",
       "      <td>4.00</td>\n",
       "      <td>5.0</td>\n",
       "    </tr>\n",
       "    <tr>\n",
       "      <th>Online boarding</th>\n",
       "      <td>10000.0</td>\n",
       "      <td>3.349100</td>\n",
       "      <td>1.352779</td>\n",
       "      <td>0.0</td>\n",
       "      <td>2.0</td>\n",
       "      <td>4.0</td>\n",
       "      <td>4.00</td>\n",
       "      <td>5.0</td>\n",
       "    </tr>\n",
       "    <tr>\n",
       "      <th>Seat comfort</th>\n",
       "      <td>10000.0</td>\n",
       "      <td>3.491400</td>\n",
       "      <td>1.311220</td>\n",
       "      <td>0.0</td>\n",
       "      <td>3.0</td>\n",
       "      <td>4.0</td>\n",
       "      <td>5.00</td>\n",
       "      <td>5.0</td>\n",
       "    </tr>\n",
       "    <tr>\n",
       "      <th>Inflight entertainment</th>\n",
       "      <td>10000.0</td>\n",
       "      <td>3.402900</td>\n",
       "      <td>1.331822</td>\n",
       "      <td>0.0</td>\n",
       "      <td>2.0</td>\n",
       "      <td>4.0</td>\n",
       "      <td>5.00</td>\n",
       "      <td>5.0</td>\n",
       "    </tr>\n",
       "    <tr>\n",
       "      <th>On-board service</th>\n",
       "      <td>10000.0</td>\n",
       "      <td>3.454100</td>\n",
       "      <td>1.274777</td>\n",
       "      <td>1.0</td>\n",
       "      <td>3.0</td>\n",
       "      <td>4.0</td>\n",
       "      <td>4.00</td>\n",
       "      <td>5.0</td>\n",
       "    </tr>\n",
       "    <tr>\n",
       "      <th>Leg room service</th>\n",
       "      <td>10000.0</td>\n",
       "      <td>3.415700</td>\n",
       "      <td>1.308765</td>\n",
       "      <td>0.0</td>\n",
       "      <td>2.0</td>\n",
       "      <td>4.0</td>\n",
       "      <td>5.00</td>\n",
       "      <td>5.0</td>\n",
       "    </tr>\n",
       "    <tr>\n",
       "      <th>Baggage handling</th>\n",
       "      <td>10000.0</td>\n",
       "      <td>3.676200</td>\n",
       "      <td>1.189746</td>\n",
       "      <td>1.0</td>\n",
       "      <td>3.0</td>\n",
       "      <td>4.0</td>\n",
       "      <td>5.00</td>\n",
       "      <td>5.0</td>\n",
       "    </tr>\n",
       "    <tr>\n",
       "      <th>Checkin service</th>\n",
       "      <td>10000.0</td>\n",
       "      <td>3.360600</td>\n",
       "      <td>1.258462</td>\n",
       "      <td>0.0</td>\n",
       "      <td>3.0</td>\n",
       "      <td>3.0</td>\n",
       "      <td>4.00</td>\n",
       "      <td>5.0</td>\n",
       "    </tr>\n",
       "    <tr>\n",
       "      <th>Inflight service</th>\n",
       "      <td>10000.0</td>\n",
       "      <td>3.680100</td>\n",
       "      <td>1.175118</td>\n",
       "      <td>1.0</td>\n",
       "      <td>3.0</td>\n",
       "      <td>4.0</td>\n",
       "      <td>5.00</td>\n",
       "      <td>5.0</td>\n",
       "    </tr>\n",
       "    <tr>\n",
       "      <th>Cleanliness</th>\n",
       "      <td>10000.0</td>\n",
       "      <td>3.311100</td>\n",
       "      <td>1.311217</td>\n",
       "      <td>0.0</td>\n",
       "      <td>2.0</td>\n",
       "      <td>3.0</td>\n",
       "      <td>4.00</td>\n",
       "      <td>5.0</td>\n",
       "    </tr>\n",
       "    <tr>\n",
       "      <th>Departure Delay in Minutes</th>\n",
       "      <td>10000.0</td>\n",
       "      <td>14.429900</td>\n",
       "      <td>39.659674</td>\n",
       "      <td>0.0</td>\n",
       "      <td>0.0</td>\n",
       "      <td>0.0</td>\n",
       "      <td>12.00</td>\n",
       "      <td>921.0</td>\n",
       "    </tr>\n",
       "    <tr>\n",
       "      <th>Arrival Delay in Minutes</th>\n",
       "      <td>9972.0</td>\n",
       "      <td>14.709888</td>\n",
       "      <td>40.046355</td>\n",
       "      <td>0.0</td>\n",
       "      <td>0.0</td>\n",
       "      <td>0.0</td>\n",
       "      <td>12.00</td>\n",
       "      <td>924.0</td>\n",
       "    </tr>\n",
       "    <tr>\n",
       "      <th>satisfaction</th>\n",
       "      <td>10000.0</td>\n",
       "      <td>0.500000</td>\n",
       "      <td>0.500025</td>\n",
       "      <td>0.0</td>\n",
       "      <td>0.0</td>\n",
       "      <td>0.5</td>\n",
       "      <td>1.00</td>\n",
       "      <td>1.0</td>\n",
       "    </tr>\n",
       "  </tbody>\n",
       "</table>\n",
       "</div>"
      ],
      "text/plain": [
       "                                     count         mean          std   min  \\\n",
       "Age                                10000.0    39.375100    14.897959   7.0   \n",
       "Flight Distance                    10000.0  1229.556200  1022.281958  31.0   \n",
       "Inflight wifi service              10000.0     2.780200     1.362745   0.0   \n",
       "Departure/Arrival time convenient  10000.0     3.065100     1.527316   0.0   \n",
       "Ease of Online booking             10000.0     2.797800     1.421168   0.0   \n",
       "Gate location                      10000.0     2.981000     1.283278   1.0   \n",
       "Food and drink                     10000.0     3.214500     1.333217   0.0   \n",
       "Online boarding                    10000.0     3.349100     1.352779   0.0   \n",
       "Seat comfort                       10000.0     3.491400     1.311220   0.0   \n",
       "Inflight entertainment             10000.0     3.402900     1.331822   0.0   \n",
       "On-board service                   10000.0     3.454100     1.274777   1.0   \n",
       "Leg room service                   10000.0     3.415700     1.308765   0.0   \n",
       "Baggage handling                   10000.0     3.676200     1.189746   1.0   \n",
       "Checkin service                    10000.0     3.360600     1.258462   0.0   \n",
       "Inflight service                   10000.0     3.680100     1.175118   1.0   \n",
       "Cleanliness                        10000.0     3.311100     1.311217   0.0   \n",
       "Departure Delay in Minutes         10000.0    14.429900    39.659674   0.0   \n",
       "Arrival Delay in Minutes            9972.0    14.709888    40.046355   0.0   \n",
       "satisfaction                       10000.0     0.500000     0.500025   0.0   \n",
       "\n",
       "                                     25%    50%      75%     max  \n",
       "Age                                 27.0   40.0    51.00    80.0  \n",
       "Flight Distance                    421.0  863.5  1806.75  4983.0  \n",
       "Inflight wifi service                2.0    3.0     4.00     5.0  \n",
       "Departure/Arrival time convenient    2.0    3.0     4.00     5.0  \n",
       "Ease of Online booking               2.0    3.0     4.00     5.0  \n",
       "Gate location                        2.0    3.0     4.00     5.0  \n",
       "Food and drink                       2.0    3.0     4.00     5.0  \n",
       "Online boarding                      2.0    4.0     4.00     5.0  \n",
       "Seat comfort                         3.0    4.0     5.00     5.0  \n",
       "Inflight entertainment               2.0    4.0     5.00     5.0  \n",
       "On-board service                     3.0    4.0     4.00     5.0  \n",
       "Leg room service                     2.0    4.0     5.00     5.0  \n",
       "Baggage handling                     3.0    4.0     5.00     5.0  \n",
       "Checkin service                      3.0    3.0     4.00     5.0  \n",
       "Inflight service                     3.0    4.0     5.00     5.0  \n",
       "Cleanliness                          2.0    3.0     4.00     5.0  \n",
       "Departure Delay in Minutes           0.0    0.0    12.00   921.0  \n",
       "Arrival Delay in Minutes             0.0    0.0    12.00   924.0  \n",
       "satisfaction                         0.0    0.5     1.00     1.0  "
      ]
     },
     "execution_count": 5,
     "metadata": {},
     "output_type": "execute_result"
    }
   ],
   "source": [
    "data.describe().T"
   ]
  },
  {
   "cell_type": "code",
   "execution_count": 6,
   "id": "710edbc3",
   "metadata": {
    "execution": {
     "iopub.execute_input": "2024-06-04T10:10:01.440797Z",
     "iopub.status.busy": "2024-06-04T10:10:01.440533Z",
     "iopub.status.idle": "2024-06-04T10:10:01.451427Z",
     "shell.execute_reply": "2024-06-04T10:10:01.450654Z"
    },
    "papermill": {
     "duration": 0.022948,
     "end_time": "2024-06-04T10:10:01.453425",
     "exception": false,
     "start_time": "2024-06-04T10:10:01.430477",
     "status": "completed"
    },
    "tags": []
   },
   "outputs": [
    {
     "data": {
      "text/plain": [
       "Gender                                0\n",
       "Customer Type                         0\n",
       "Age                                   0\n",
       "Type of Travel                        0\n",
       "Class                                 0\n",
       "Flight Distance                       0\n",
       "Inflight wifi service                 0\n",
       "Departure/Arrival time convenient     0\n",
       "Ease of Online booking                0\n",
       "Gate location                         0\n",
       "Food and drink                        0\n",
       "Online boarding                       0\n",
       "Seat comfort                          0\n",
       "Inflight entertainment                0\n",
       "On-board service                      0\n",
       "Leg room service                      0\n",
       "Baggage handling                      0\n",
       "Checkin service                       0\n",
       "Inflight service                      0\n",
       "Cleanliness                           0\n",
       "Departure Delay in Minutes            0\n",
       "Arrival Delay in Minutes             28\n",
       "satisfaction                          0\n",
       "dtype: int64"
      ]
     },
     "execution_count": 6,
     "metadata": {},
     "output_type": "execute_result"
    }
   ],
   "source": [
    "# nan qiymatlar sonini ko'rish\n",
    "data.isnull().sum() "
   ]
  },
  {
   "cell_type": "markdown",
   "id": "95c7e474",
   "metadata": {
    "papermill": {
     "duration": 0.009031,
     "end_time": "2024-06-04T10:10:01.472098",
     "exception": false,
     "start_time": "2024-06-04T10:10:01.463067",
     "status": "completed"
    },
    "tags": []
   },
   "source": [
    "Malumotlarga ishlov berish"
   ]
  },
  {
   "cell_type": "code",
   "execution_count": 7,
   "id": "cd94b42c",
   "metadata": {
    "execution": {
     "iopub.execute_input": "2024-06-04T10:10:01.491632Z",
     "iopub.status.busy": "2024-06-04T10:10:01.491370Z",
     "iopub.status.idle": "2024-06-04T10:10:01.499131Z",
     "shell.execute_reply": "2024-06-04T10:10:01.498228Z"
    },
    "papermill": {
     "duration": 0.01948,
     "end_time": "2024-06-04T10:10:01.500920",
     "exception": false,
     "start_time": "2024-06-04T10:10:01.481440",
     "status": "completed"
    },
    "tags": []
   },
   "outputs": [
    {
     "data": {
      "text/plain": [
       "Type of Travel\n",
       "Business travel    7079\n",
       "Personal Travel    2921\n",
       "Name: count, dtype: int64"
      ]
     },
     "execution_count": 7,
     "metadata": {},
     "output_type": "execute_result"
    }
   ],
   "source": [
    "data['Type of Travel'].value_counts()"
   ]
  },
  {
   "cell_type": "code",
   "execution_count": 8,
   "id": "06b55106",
   "metadata": {
    "execution": {
     "iopub.execute_input": "2024-06-04T10:10:01.520660Z",
     "iopub.status.busy": "2024-06-04T10:10:01.520424Z",
     "iopub.status.idle": "2024-06-04T10:10:01.523911Z",
     "shell.execute_reply": "2024-06-04T10:10:01.523152Z"
    },
    "papermill": {
     "duration": 0.015472,
     "end_time": "2024-06-04T10:10:01.525673",
     "exception": false,
     "start_time": "2024-06-04T10:10:01.510201",
     "status": "completed"
    },
    "tags": []
   },
   "outputs": [],
   "source": [
    "# malumotlar orosidagi corrilatsiyani ko'rish \n",
    "# data.corrwith(data['satisfaction']).abs().sort_values(ascending=False)"
   ]
  },
  {
   "cell_type": "code",
   "execution_count": 9,
   "id": "e669c634",
   "metadata": {
    "execution": {
     "iopub.execute_input": "2024-06-04T10:10:01.545376Z",
     "iopub.status.busy": "2024-06-04T10:10:01.545138Z",
     "iopub.status.idle": "2024-06-04T10:10:01.550022Z",
     "shell.execute_reply": "2024-06-04T10:10:01.549253Z"
    },
    "papermill": {
     "duration": 0.016829,
     "end_time": "2024-06-04T10:10:01.551800",
     "exception": false,
     "start_time": "2024-06-04T10:10:01.534971",
     "status": "completed"
    },
    "tags": []
   },
   "outputs": [],
   "source": [
    "# corrilatsiya past bo'lgan ustunlarni tashlab yuboramiz\n",
    "data.drop(['Gender', 'Gate location', 'Departure Delay in Minutes', 'Arrival Delay in Minutes', 'Departure/Arrival time convenient'], axis=1, inplace=True)"
   ]
  },
  {
   "cell_type": "markdown",
   "id": "f46fd49e",
   "metadata": {
    "papermill": {
     "duration": 0.009154,
     "end_time": "2024-06-04T10:10:01.570700",
     "exception": false,
     "start_time": "2024-06-04T10:10:01.561546",
     "status": "completed"
    },
    "tags": []
   },
   "source": [
    "Visualisation "
   ]
  },
  {
   "cell_type": "code",
   "execution_count": 10,
   "id": "bfcc6c71",
   "metadata": {
    "execution": {
     "iopub.execute_input": "2024-06-04T10:10:01.591556Z",
     "iopub.status.busy": "2024-06-04T10:10:01.591071Z",
     "iopub.status.idle": "2024-06-04T10:10:05.398400Z",
     "shell.execute_reply": "2024-06-04T10:10:05.397375Z"
    },
    "papermill": {
     "duration": 3.820749,
     "end_time": "2024-06-04T10:10:05.401642",
     "exception": false,
     "start_time": "2024-06-04T10:10:01.580893",
     "status": "completed"
    },
    "tags": []
   },
   "outputs": [
    {
     "data": {
      "image/png": "[encoded data removed]",
      "text/plain": [
       "<Figure size 2000x1500 with 16 Axes>"
      ]
     },
     "metadata": {},
     "output_type": "display_data"
    }
   ],
   "source": [
    "data.hist(bins=50, figsize=(20,15))\n",
    "plt.show()"
   ]
  },
  {
   "cell_type": "markdown",
   "id": "e928ab0f",
   "metadata": {
    "papermill": {
     "duration": 0.011704,
     "end_time": "2024-06-04T10:10:05.425021",
     "exception": false,
     "start_time": "2024-06-04T10:10:05.413317",
     "status": "completed"
    },
    "tags": []
   },
   "source": [
    "Preparetion for ML"
   ]
  },
  {
   "cell_type": "code",
   "execution_count": 11,
   "id": "e486e9bc",
   "metadata": {
    "execution": {
     "iopub.execute_input": "2024-06-04T10:10:05.449477Z",
     "iopub.status.busy": "2024-06-04T10:10:05.448738Z",
     "iopub.status.idle": "2024-06-04T10:10:05.461104Z",
     "shell.execute_reply": "2024-06-04T10:10:05.460342Z"
    },
    "papermill": {
     "duration": 0.0269,
     "end_time": "2024-06-04T10:10:05.463058",
     "exception": false,
     "start_time": "2024-06-04T10:10:05.436158",
     "status": "completed"
    },
    "tags": []
   },
   "outputs": [],
   "source": [
    "# df ni train test qismga ajratish\n",
    "from sklearn.model_selection import train_test_split\n",
    "train_set, test_set = train_test_split(data, test_size=0.2 , random_state=42)\n",
    "\n",
    "#Lebelni y ga saqlab aratib olish\n",
    "X_train = train_set.drop('satisfaction', axis=1)\n",
    "Y = train_set['satisfaction'].copy()\n",
    "Y_test = test_set['satisfaction'].copy()"
   ]
  },
  {
   "cell_type": "markdown",
   "id": "c5207c58",
   "metadata": {
    "papermill": {
     "duration": 0.011678,
     "end_time": "2024-06-04T10:10:05.486045",
     "exception": false,
     "start_time": "2024-06-04T10:10:05.474367",
     "status": "completed"
    },
    "tags": []
   },
   "source": [
    "Pipeline qurish"
   ]
  },
  {
   "cell_type": "code",
   "execution_count": 12,
   "id": "a922fd32",
   "metadata": {
    "execution": {
     "iopub.execute_input": "2024-06-04T10:10:05.509756Z",
     "iopub.status.busy": "2024-06-04T10:10:05.509477Z",
     "iopub.status.idle": "2024-06-04T10:10:05.542707Z",
     "shell.execute_reply": "2024-06-04T10:10:05.541873Z"
    },
    "papermill": {
     "duration": 0.047263,
     "end_time": "2024-06-04T10:10:05.544628",
     "exception": false,
     "start_time": "2024-06-04T10:10:05.497365",
     "status": "completed"
    },
    "tags": []
   },
   "outputs": [],
   "source": [
    "# sonlar bilan ishlovchi pipeline\n",
    "num_pipeline = Pipeline([\n",
    "          ('imputer', SimpleImputer(strategy='median')),\n",
    "          ('std_scaler', StandardScaler())\n",
    "])\n",
    "\n",
    "num_attribs = list(X_train.drop(['Customer Type', 'Type of Travel', 'Class'], axis=1))\n",
    "cat_attribs = ['Customer Type', 'Type of Travel', 'Class']\n",
    "    \n",
    "# full pipeline\n",
    "full_pipeline = ColumnTransformer([\n",
    "    ('num', num_pipeline, num_attribs),\n",
    "    ('cat', OneHotEncoder(), cat_attribs),\n",
    "])\n",
    "    \n",
    "# X_train ni full pipelinedan o'tkazamiz\n",
    "X_prepared = full_pipeline.fit_transform(X_train)"
   ]
  },
  {
   "cell_type": "markdown",
   "id": "3e67e6d8",
   "metadata": {
    "papermill": {
     "duration": 0.011449,
     "end_time": "2024-06-04T10:10:05.567167",
     "exception": false,
     "start_time": "2024-06-04T10:10:05.555718",
     "status": "completed"
    },
    "tags": []
   },
   "source": [
    "Machine Learning"
   ]
  },
  {
   "cell_type": "markdown",
   "id": "441af280",
   "metadata": {
    "papermill": {
     "duration": 0.011113,
     "end_time": "2024-06-04T10:10:05.589549",
     "exception": false,
     "start_time": "2024-06-04T10:10:05.578436",
     "status": "completed"
    },
    "tags": []
   },
   "source": [
    "Random Forest"
   ]
  },
  {
   "cell_type": "code",
   "execution_count": 13,
   "id": "984e5bb7",
   "metadata": {
    "execution": {
     "iopub.execute_input": "2024-06-04T10:10:05.613505Z",
     "iopub.status.busy": "2024-06-04T10:10:05.613229Z",
     "iopub.status.idle": "2024-06-04T10:10:06.426045Z",
     "shell.execute_reply": "2024-06-04T10:10:06.425214Z"
    },
    "papermill": {
     "duration": 0.827352,
     "end_time": "2024-06-04T10:10:06.428137",
     "exception": false,
     "start_time": "2024-06-04T10:10:05.600785",
     "status": "completed"
    },
    "tags": []
   },
   "outputs": [
    {
     "data": {
      "text/html": [
       "<style>#sk-container-id-1 {color: black;background-color: white;}#sk-container-id-1 pre{padding: 0;}#sk-container-id-1 div.sk-toggleable {background-color: white;}#sk-container-id-1 label.sk-toggleable__label {cursor: pointer;display: block;width: 100%;margin-bottom: 0;padding: 0.3em;box-sizing: border-box;text-align: center;}#sk-container-id-1 label.sk-toggleable__label-arrow:before {content: \"▸\";float: left;margin-right: 0.25em;color: #696969;}#sk-container-id-1 label.sk-toggleable__label-arrow:hover:before {color: black;}#sk-container-id-1 div.sk-estimator:hover label.sk-toggleable__label-arrow:before {color: black;}#sk-container-id-1 div.sk-toggleable__content {max-height: 0;max-width: 0;overflow: hidden;text-align: left;background-color: #f0f8ff;}#sk-container-id-1 div.sk-toggleable__content pre {margin: 0.2em;color: black;border-radius: 0.25em;background-color: #f0f8ff;}#sk-container-id-1 input.sk-toggleable__control:checked~div.sk-toggleable__content {max-height: 200px;max-width: 100%;overflow: auto;}#sk-container-id-1 input.sk-toggleable__control:checked~label.sk-toggleable__label-arrow:before {content: \"▾\";}#sk-container-id-1 div.sk-estimator input.sk-toggleable__control:checked~label.sk-toggleable__label {background-color: #d4ebff;}#sk-container-id-1 div.sk-label input.sk-toggleable__control:checked~label.sk-toggleable__label {background-color: #d4ebff;}#sk-container-id-1 input.sk-hidden--visually {border: 0;clip: rect(1px 1px 1px 1px);clip: rect(1px, 1px, 1px, 1px);height: 1px;margin: -1px;overflow: hidden;padding: 0;position: absolute;width: 1px;}#sk-container-id-1 div.sk-estimator {font-family: monospace;background-color: #f0f8ff;border: 1px dotted black;border-radius: 0.25em;box-sizing: border-box;margin-bottom: 0.5em;}#sk-container-id-1 div.sk-estimator:hover {background-color: #d4ebff;}#sk-container-id-1 div.sk-parallel-item::after {content: \"\";width: 100%;border-bottom: 1px solid gray;flex-grow: 1;}#sk-container-id-1 div.sk-label:hover label.sk-toggleable__label {background-color: #d4ebff;}#sk-container-id-1 div.sk-serial::before {content: \"\";position: absolute;border-left: 1px solid gray;box-sizing: border-box;top: 0;bottom: 0;left: 50%;z-index: 0;}#sk-container-id-1 div.sk-serial {display: flex;flex-direction: column;align-items: center;background-color: white;padding-right: 0.2em;padding-left: 0.2em;position: relative;}#sk-container-id-1 div.sk-item {position: relative;z-index: 1;}#sk-container-id-1 div.sk-parallel {display: flex;align-items: stretch;justify-content: center;background-color: white;position: relative;}#sk-container-id-1 div.sk-item::before, #sk-container-id-1 div.sk-parallel-item::before {content: \"\";position: absolute;border-left: 1px solid gray;box-sizing: border-box;top: 0;bottom: 0;left: 50%;z-index: -1;}#sk-container-id-1 div.sk-parallel-item {display: flex;flex-direction: column;z-index: 1;position: relative;background-color: white;}#sk-container-id-1 div.sk-parallel-item:first-child::after {align-self: flex-end;width: 50%;}#sk-container-id-1 div.sk-parallel-item:last-child::after {align-self: flex-start;width: 50%;}#sk-container-id-1 div.sk-parallel-item:only-child::after {width: 0;}#sk-container-id-1 div.sk-dashed-wrapped {border: 1px dashed gray;margin: 0 0.4em 0.5em 0.4em;box-sizing: border-box;padding-bottom: 0.4em;background-color: white;}#sk-container-id-1 div.sk-label label {font-family: monospace;font-weight: bold;display: inline-block;line-height: 1.2em;}#sk-container-id-1 div.sk-label-container {text-align: center;}#sk-container-id-1 div.sk-container {/* jupyter's `normalize.less` sets `[hidden] { display: none; }` but bootstrap.min.css set `[hidden] { display: none !important; }` so we also need the `!important` here to be able to override the default hidden behavior on the sphinx rendered scikit-learn.org. See: https://github.com/scikit-learn/scikit-learn/issues/21755 */display: inline-block !important;position: relative;}#sk-container-id-1 div.sk-text-repr-fallback {display: none;}</style><div id=\"sk-container-id-1\" class=\"sk-top-container\"><div class=\"sk-text-repr-fallback\"><pre>RandomForestClassifier()</pre><b>In a Jupyter environment, please rerun this cell to show the HTML representation or trust the notebook. <br />On GitHub, the HTML representation is unable to render, please try loading this page with nbviewer.org.</b></div><div class=\"sk-container\" hidden><div class=\"sk-item\"><div class=\"sk-estimator sk-toggleable\"><input class=\"sk-toggleable__control sk-hidden--visually\" id=\"sk-estimator-id-1\" type=\"checkbox\" checked><label for=\"sk-estimator-id-1\" class=\"sk-toggleable__label sk-toggleable__label-arrow\">RandomForestClassifier</label><div class=\"sk-toggleable__content\"><pre>RandomForestClassifier()</pre></div></div></div></div></div>"
      ],
      "text/plain": [
       "RandomForestClassifier()"
      ]
     },
     "execution_count": 13,
     "metadata": {},
     "output_type": "execute_result"
    }
   ],
   "source": [
    "RF_model = RandomForestClassifier()\n",
    "RF_model.fit(X_prepared, Y)"
   ]
  },
  {
   "cell_type": "markdown",
   "id": "da51f498",
   "metadata": {
    "papermill": {
     "duration": 0.011654,
     "end_time": "2024-06-04T10:10:06.451814",
     "exception": false,
     "start_time": "2024-06-04T10:10:06.440160",
     "status": "completed"
    },
    "tags": []
   },
   "source": [
    "Modelni baholash"
   ]
  },
  {
   "cell_type": "code",
   "execution_count": 14,
   "id": "cd6051f4",
   "metadata": {
    "execution": {
     "iopub.execute_input": "2024-06-04T10:10:06.476274Z",
     "iopub.status.busy": "2024-06-04T10:10:06.475952Z",
     "iopub.status.idle": "2024-06-04T10:10:06.527967Z",
     "shell.execute_reply": "2024-06-04T10:10:06.526847Z"
    },
    "papermill": {
     "duration": 0.066413,
     "end_time": "2024-06-04T10:10:06.529802",
     "exception": false,
     "start_time": "2024-06-04T10:10:06.463389",
     "status": "completed"
    },
    "tags": []
   },
   "outputs": [
    {
     "name": "stdout",
     "output_type": "stream",
     "text": [
      "              precision    recall  f1-score   support\n",
      "\n",
      "           0       0.94      0.97      0.95      1002\n",
      "           1       0.97      0.93      0.95       998\n",
      "\n",
      "    accuracy                           0.95      2000\n",
      "   macro avg       0.95      0.95      0.95      2000\n",
      "weighted avg       0.95      0.95      0.95      2000\n",
      "\n",
      "RandomForest's Accuracy:  0.9515\n"
     ]
    }
   ],
   "source": [
    "X_test = test_set.drop('satisfaction', axis=1)\n",
    "X_test_prepared = full_pipeline.transform(X_test)\n",
    "y_predict = RF_model.predict(X_test_prepared)\n",
    "\n",
    "print(classification_report(Y_test, y_predict))\n",
    "print(\"RandomForest's Accuracy: \", metrics.accuracy_score(Y_test, y_predict))\n"
   ]
  },
  {
   "cell_type": "code",
   "execution_count": 15,
   "id": "1dee710c",
   "metadata": {
    "execution": {
     "iopub.execute_input": "2024-06-04T10:10:06.554497Z",
     "iopub.status.busy": "2024-06-04T10:10:06.553980Z",
     "iopub.status.idle": "2024-06-04T10:10:10.064121Z",
     "shell.execute_reply": "2024-06-04T10:10:10.063186Z"
    },
    "papermill": {
     "duration": 3.524849,
     "end_time": "2024-06-04T10:10:10.066245",
     "exception": false,
     "start_time": "2024-06-04T10:10:06.541396",
     "status": "completed"
    },
    "tags": []
   },
   "outputs": [
    {
     "name": "stdout",
     "output_type": "stream",
     "text": [
      "Cross-Validation-Score : 98.89390550351447\n"
     ]
    }
   ],
   "source": [
    "print(\"Cross-Validation-Score :\",(cross_val_score(RF_model, X_prepared, Y, cv=5,scoring='roc_auc').mean())*100)"
   ]
  },
  {
   "cell_type": "code",
   "execution_count": 16,
   "id": "72e41317",
   "metadata": {
    "execution": {
     "iopub.execute_input": "2024-06-04T10:10:10.091072Z",
     "iopub.status.busy": "2024-06-04T10:10:10.090755Z",
     "iopub.status.idle": "2024-06-04T10:10:10.275674Z",
     "shell.execute_reply": "2024-06-04T10:10:10.274748Z"
    },
    "papermill": {
     "duration": 0.199692,
     "end_time": "2024-06-04T10:10:10.277860",
     "exception": false,
     "start_time": "2024-06-04T10:10:10.078168",
     "status": "completed"
    },
    "tags": []
   },
   "outputs": [
    {
     "data": {
      "image/png": "[encoded data removed]",
      "text/plain": [
       "<Figure size 640x480 with 2 Axes>"
      ]
     },
     "metadata": {},
     "output_type": "display_data"
    }
   ],
   "source": [
    "sns.heatmap(confusion_matrix(Y_test, y_predict), annot=True)\n",
    "plt.show()"
   ]
  },
  {
   "cell_type": "code",
   "execution_count": 17,
   "id": "33489a0f",
   "metadata": {
    "execution": {
     "iopub.execute_input": "2024-06-04T10:10:10.306604Z",
     "iopub.status.busy": "2024-06-04T10:10:10.306305Z",
     "iopub.status.idle": "2024-06-04T10:10:10.315631Z",
     "shell.execute_reply": "2024-06-04T10:10:10.314655Z"
    },
    "papermill": {
     "duration": 0.02676,
     "end_time": "2024-06-04T10:10:10.317997",
     "exception": false,
     "start_time": "2024-06-04T10:10:10.291237",
     "status": "completed"
    },
    "tags": []
   },
   "outputs": [
    {
     "data": {
      "text/html": [
       "<style>#sk-container-id-2 {color: black;background-color: white;}#sk-container-id-2 pre{padding: 0;}#sk-container-id-2 div.sk-toggleable {background-color: white;}#sk-container-id-2 label.sk-toggleable__label {cursor: pointer;display: block;width: 100%;margin-bottom: 0;padding: 0.3em;box-sizing: border-box;text-align: center;}#sk-container-id-2 label.sk-toggleable__label-arrow:before {content: \"▸\";float: left;margin-right: 0.25em;color: #696969;}#sk-container-id-2 label.sk-toggleable__label-arrow:hover:before {color: black;}#sk-container-id-2 div.sk-estimator:hover label.sk-toggleable__label-arrow:before {color: black;}#sk-container-id-2 div.sk-toggleable__content {max-height: 0;max-width: 0;overflow: hidden;text-align: left;background-color: #f0f8ff;}#sk-container-id-2 div.sk-toggleable__content pre {margin: 0.2em;color: black;border-radius: 0.25em;background-color: #f0f8ff;}#sk-container-id-2 input.sk-toggleable__control:checked~div.sk-toggleable__content {max-height: 200px;max-width: 100%;overflow: auto;}#sk-container-id-2 input.sk-toggleable__control:checked~label.sk-toggleable__label-arrow:before {content: \"▾\";}#sk-container-id-2 div.sk-estimator input.sk-toggleable__control:checked~label.sk-toggleable__label {background-color: #d4ebff;}#sk-container-id-2 div.sk-label input.sk-toggleable__control:checked~label.sk-toggleable__label {background-color: #d4ebff;}#sk-container-id-2 input.sk-hidden--visually {border: 0;clip: rect(1px 1px 1px 1px);clip: rect(1px, 1px, 1px, 1px);height: 1px;margin: -1px;overflow: hidden;padding: 0;position: absolute;width: 1px;}#sk-container-id-2 div.sk-estimator {font-family: monospace;background-color: #f0f8ff;border: 1px dotted black;border-radius: 0.25em;box-sizing: border-box;margin-bottom: 0.5em;}#sk-container-id-2 div.sk-estimator:hover {background-color: #d4ebff;}#sk-container-id-2 div.sk-parallel-item::after {content: \"\";width: 100%;border-bottom: 1px solid gray;flex-grow: 1;}#sk-container-id-2 div.sk-label:hover label.sk-toggleable__label {background-color: #d4ebff;}#sk-container-id-2 div.sk-serial::before {content: \"\";position: absolute;border-left: 1px solid gray;box-sizing: border-box;top: 0;bottom: 0;left: 50%;z-index: 0;}#sk-container-id-2 div.sk-serial {display: flex;flex-direction: column;align-items: center;background-color: white;padding-right: 0.2em;padding-left: 0.2em;position: relative;}#sk-container-id-2 div.sk-item {position: relative;z-index: 1;}#sk-container-id-2 div.sk-parallel {display: flex;align-items: stretch;justify-content: center;background-color: white;position: relative;}#sk-container-id-2 div.sk-item::before, #sk-container-id-2 div.sk-parallel-item::before {content: \"\";position: absolute;border-left: 1px solid gray;box-sizing: border-box;top: 0;bottom: 0;left: 50%;z-index: -1;}#sk-container-id-2 div.sk-parallel-item {display: flex;flex-direction: column;z-index: 1;position: relative;background-color: white;}#sk-container-id-2 div.sk-parallel-item:first-child::after {align-self: flex-end;width: 50%;}#sk-container-id-2 div.sk-parallel-item:last-child::after {align-self: flex-start;width: 50%;}#sk-container-id-2 div.sk-parallel-item:only-child::after {width: 0;}#sk-container-id-2 div.sk-dashed-wrapped {border: 1px dashed gray;margin: 0 0.4em 0.5em 0.4em;box-sizing: border-box;padding-bottom: 0.4em;background-color: white;}#sk-container-id-2 div.sk-label label {font-family: monospace;font-weight: bold;display: inline-block;line-height: 1.2em;}#sk-container-id-2 div.sk-label-container {text-align: center;}#sk-container-id-2 div.sk-container {/* jupyter's `normalize.less` sets `[hidden] { display: none; }` but bootstrap.min.css set `[hidden] { display: none !important; }` so we also need the `!important` here to be able to override the default hidden behavior on the sphinx rendered scikit-learn.org. See: https://github.com/scikit-learn/scikit-learn/issues/21755 */display: inline-block !important;position: relative;}#sk-container-id-2 div.sk-text-repr-fallback {display: none;}</style><div id=\"sk-container-id-2\" class=\"sk-top-container\"><div class=\"sk-text-repr-fallback\"><pre>KNeighborsClassifier()</pre><b>In a Jupyter environment, please rerun this cell to show the HTML representation or trust the notebook. <br />On GitHub, the HTML representation is unable to render, please try loading this page with nbviewer.org.</b></div><div class=\"sk-container\" hidden><div class=\"sk-item\"><div class=\"sk-estimator sk-toggleable\"><input class=\"sk-toggleable__control sk-hidden--visually\" id=\"sk-estimator-id-2\" type=\"checkbox\" checked><label for=\"sk-estimator-id-2\" class=\"sk-toggleable__label sk-toggleable__label-arrow\">KNeighborsClassifier</label><div class=\"sk-toggleable__content\"><pre>KNeighborsClassifier()</pre></div></div></div></div></div>"
      ],
      "text/plain": [
       "KNeighborsClassifier()"
      ]
     },
     "execution_count": 17,
     "metadata": {},
     "output_type": "execute_result"
    }
   ],
   "source": [
    "# k-NN\n",
    "knn = KNeighborsClassifier()\n",
    "\n",
    "knn.fit(X_prepared, Y)"
   ]
  },
  {
   "cell_type": "code",
   "execution_count": 18,
   "id": "dd992712",
   "metadata": {
    "execution": {
     "iopub.execute_input": "2024-06-04T10:10:10.348678Z",
     "iopub.status.busy": "2024-06-04T10:10:10.348390Z",
     "iopub.status.idle": "2024-06-04T10:10:10.358166Z",
     "shell.execute_reply": "2024-06-04T10:10:10.357073Z"
    },
    "papermill": {
     "duration": 0.026923,
     "end_time": "2024-06-04T10:10:10.360320",
     "exception": false,
     "start_time": "2024-06-04T10:10:10.333397",
     "status": "completed"
    },
    "tags": []
   },
   "outputs": [
    {
     "data": {
      "text/plain": [
       "0.9058252427184466"
      ]
     },
     "execution_count": 18,
     "metadata": {},
     "output_type": "execute_result"
    }
   ],
   "source": [
    "# baholash jaccard_score\n",
    "\n",
    "jaccard_score(Y_test, y_predict)"
   ]
  },
  {
   "cell_type": "markdown",
   "id": "a8d87064",
   "metadata": {
    "papermill": {
     "duration": 0.013059,
     "end_time": "2024-06-04T10:10:10.387807",
     "exception": false,
     "start_time": "2024-06-04T10:10:10.374748",
     "status": "completed"
    },
    "tags": []
   },
   "source": [
    "LGBMClassifier algorithm"
   ]
  },
  {
   "cell_type": "code",
   "execution_count": 19,
   "id": "d6134417",
   "metadata": {
    "execution": {
     "iopub.execute_input": "2024-06-04T10:10:10.416134Z",
     "iopub.status.busy": "2024-06-04T10:10:10.415748Z",
     "iopub.status.idle": "2024-06-04T10:10:10.651811Z",
     "shell.execute_reply": "2024-06-04T10:10:10.650830Z"
    },
    "papermill": {
     "duration": 0.253275,
     "end_time": "2024-06-04T10:10:10.654406",
     "exception": false,
     "start_time": "2024-06-04T10:10:10.401131",
     "status": "completed"
    },
    "tags": []
   },
   "outputs": [
    {
     "name": "stdout",
     "output_type": "stream",
     "text": [
      "[LightGBM] [Info] Number of positive: 4002, number of negative: 3998\n",
      "[LightGBM] [Info] Auto-choosing row-wise multi-threading, the overhead of testing was 0.002316 seconds.\n",
      "You can set `force_row_wise=true` to remove the overhead.\n",
      "And if memory is not enough, you can set `force_col_wise=true`.\n",
      "[LightGBM] [Info] Total Bins 418\n",
      "[LightGBM] [Info] Number of data points in the train set: 8000, number of used features: 21\n",
      "[LightGBM] [Info] [binary:BoostFromScore]: pavg=0.500250 -> initscore=0.001000\n",
      "[LightGBM] [Info] Start training from score 0.001000\n"
     ]
    },
    {
     "data": {
      "text/html": [
       "<style>#sk-container-id-3 {color: black;background-color: white;}#sk-container-id-3 pre{padding: 0;}#sk-container-id-3 div.sk-toggleable {background-color: white;}#sk-container-id-3 label.sk-toggleable__label {cursor: pointer;display: block;width: 100%;margin-bottom: 0;padding: 0.3em;box-sizing: border-box;text-align: center;}#sk-container-id-3 label.sk-toggleable__label-arrow:before {content: \"▸\";float: left;margin-right: 0.25em;color: #696969;}#sk-container-id-3 label.sk-toggleable__label-arrow:hover:before {color: black;}#sk-container-id-3 div.sk-estimator:hover label.sk-toggleable__label-arrow:before {color: black;}#sk-container-id-3 div.sk-toggleable__content {max-height: 0;max-width: 0;overflow: hidden;text-align: left;background-color: #f0f8ff;}#sk-container-id-3 div.sk-toggleable__content pre {margin: 0.2em;color: black;border-radius: 0.25em;background-color: #f0f8ff;}#sk-container-id-3 input.sk-toggleable__control:checked~div.sk-toggleable__content {max-height: 200px;max-width: 100%;overflow: auto;}#sk-container-id-3 input.sk-toggleable__control:checked~label.sk-toggleable__label-arrow:before {content: \"▾\";}#sk-container-id-3 div.sk-estimator input.sk-toggleable__control:checked~label.sk-toggleable__label {background-color: #d4ebff;}#sk-container-id-3 div.sk-label input.sk-toggleable__control:checked~label.sk-toggleable__label {background-color: #d4ebff;}#sk-container-id-3 input.sk-hidden--visually {border: 0;clip: rect(1px 1px 1px 1px);clip: rect(1px, 1px, 1px, 1px);height: 1px;margin: -1px;overflow: hidden;padding: 0;position: absolute;width: 1px;}#sk-container-id-3 div.sk-estimator {font-family: monospace;background-color: #f0f8ff;border: 1px dotted black;border-radius: 0.25em;box-sizing: border-box;margin-bottom: 0.5em;}#sk-container-id-3 div.sk-estimator:hover {background-color: #d4ebff;}#sk-container-id-3 div.sk-parallel-item::after {content: \"\";width: 100%;border-bottom: 1px solid gray;flex-grow: 1;}#sk-container-id-3 div.sk-label:hover label.sk-toggleable__label {background-color: #d4ebff;}#sk-container-id-3 div.sk-serial::before {content: \"\";position: absolute;border-left: 1px solid gray;box-sizing: border-box;top: 0;bottom: 0;left: 50%;z-index: 0;}#sk-container-id-3 div.sk-serial {display: flex;flex-direction: column;align-items: center;background-color: white;padding-right: 0.2em;padding-left: 0.2em;position: relative;}#sk-container-id-3 div.sk-item {position: relative;z-index: 1;}#sk-container-id-3 div.sk-parallel {display: flex;align-items: stretch;justify-content: center;background-color: white;position: relative;}#sk-container-id-3 div.sk-item::before, #sk-container-id-3 div.sk-parallel-item::before {content: \"\";position: absolute;border-left: 1px solid gray;box-sizing: border-box;top: 0;bottom: 0;left: 50%;z-index: -1;}#sk-container-id-3 div.sk-parallel-item {display: flex;flex-direction: column;z-index: 1;position: relative;background-color: white;}#sk-container-id-3 div.sk-parallel-item:first-child::after {align-self: flex-end;width: 50%;}#sk-container-id-3 div.sk-parallel-item:last-child::after {align-self: flex-start;width: 50%;}#sk-container-id-3 div.sk-parallel-item:only-child::after {width: 0;}#sk-container-id-3 div.sk-dashed-wrapped {border: 1px dashed gray;margin: 0 0.4em 0.5em 0.4em;box-sizing: border-box;padding-bottom: 0.4em;background-color: white;}#sk-container-id-3 div.sk-label label {font-family: monospace;font-weight: bold;display: inline-block;line-height: 1.2em;}#sk-container-id-3 div.sk-label-container {text-align: center;}#sk-container-id-3 div.sk-container {/* jupyter's `normalize.less` sets `[hidden] { display: none; }` but bootstrap.min.css set `[hidden] { display: none !important; }` so we also need the `!important` here to be able to override the default hidden behavior on the sphinx rendered scikit-learn.org. See: https://github.com/scikit-learn/scikit-learn/issues/21755 */display: inline-block !important;position: relative;}#sk-container-id-3 div.sk-text-repr-fallback {display: none;}</style><div id=\"sk-container-id-3\" class=\"sk-top-container\"><div class=\"sk-text-repr-fallback\"><pre>LGBMClassifier()</pre><b>In a Jupyter environment, please rerun this cell to show the HTML representation or trust the notebook. <br />On GitHub, the HTML representation is unable to render, please try loading this page with nbviewer.org.</b></div><div class=\"sk-container\" hidden><div class=\"sk-item\"><div class=\"sk-estimator sk-toggleable\"><input class=\"sk-toggleable__control sk-hidden--visually\" id=\"sk-estimator-id-3\" type=\"checkbox\" checked><label for=\"sk-estimator-id-3\" class=\"sk-toggleable__label sk-toggleable__label-arrow\">LGBMClassifier</label><div class=\"sk-toggleable__content\"><pre>LGBMClassifier()</pre></div></div></div></div></div>"
      ],
      "text/plain": [
       "LGBMClassifier()"
      ]
     },
     "execution_count": 19,
     "metadata": {},
     "output_type": "execute_result"
    }
   ],
   "source": [
    "LGB_model = lgb.LGBMClassifier()\n",
    "LGB_model.fit(X_prepared, Y)"
   ]
  },
  {
   "cell_type": "code",
   "execution_count": 20,
   "id": "ae068d10",
   "metadata": {
    "execution": {
     "iopub.execute_input": "2024-06-04T10:10:10.681752Z",
     "iopub.status.busy": "2024-06-04T10:10:10.681473Z",
     "iopub.status.idle": "2024-06-04T10:10:10.706253Z",
     "shell.execute_reply": "2024-06-04T10:10:10.705215Z"
    },
    "papermill": {
     "duration": 0.040636,
     "end_time": "2024-06-04T10:10:10.708202",
     "exception": false,
     "start_time": "2024-06-04T10:10:10.667566",
     "status": "completed"
    },
    "tags": []
   },
   "outputs": [
    {
     "name": "stdout",
     "output_type": "stream",
     "text": [
      "              precision    recall  f1-score   support\n",
      "\n",
      "           0       0.93      0.96      0.95      1002\n",
      "           1       0.96      0.93      0.95       998\n",
      "\n",
      "    accuracy                           0.95      2000\n",
      "   macro avg       0.95      0.95      0.95      2000\n",
      "weighted avg       0.95      0.95      0.95      2000\n",
      "\n",
      "LGB's Accuracy:  0.9465\n"
     ]
    }
   ],
   "source": [
    "y_predict = LGB_model.predict(X_test_prepared)\n",
    "\n",
    "print(classification_report(Y_test, y_predict))\n",
    "print(\"LGB's Accuracy: \", metrics.accuracy_score(Y_test, y_predict))"
   ]
  },
  {
   "cell_type": "markdown",
   "id": "6d5d5ca2",
   "metadata": {
    "papermill": {
     "duration": 0.012644,
     "end_time": "2024-06-04T10:10:10.734267",
     "exception": false,
     "start_time": "2024-06-04T10:10:10.721623",
     "status": "completed"
    },
    "tags": []
   },
   "source": [
    "Eng yaxshi natija Random Forest algaritmida Cross-Validation-Score : 98.89995238364142"
   ]
  },
  {
   "cell_type": "code",
   "execution_count": 21,
   "id": "570fe28b",
   "metadata": {
    "execution": {
     "iopub.execute_input": "2024-06-04T10:10:10.761170Z",
     "iopub.status.busy": "2024-06-04T10:10:10.760907Z",
     "iopub.status.idle": "2024-06-04T10:10:10.853292Z",
     "shell.execute_reply": "2024-06-04T10:10:10.852597Z"
    },
    "papermill": {
     "duration": 0.108129,
     "end_time": "2024-06-04T10:10:10.855233",
     "exception": false,
     "start_time": "2024-06-04T10:10:10.747104",
     "status": "completed"
    },
    "tags": []
   },
   "outputs": [],
   "source": [
    "test_data = pd.read_csv('/kaggle/input/aviakompaniya/test_dataset.csv', index_col=0)\n",
    "\n",
    "# test datani pipelinedan o'tkazamiz\n",
    "X_test_prepared = full_pipeline.transform(test_data)\n",
    "\n",
    "# RF model orqali predict qilamiz\n",
    "y_predicted = RF_model.predict(X_test_prepared)\n",
    "\n",
    "solution_data = pd.DataFrame({\"id\" : np.arange(1, len(y_predicted)+1), 'satisfaction': y_predicted})"
   ]
  },
  {
   "cell_type": "code",
   "execution_count": 22,
   "id": "edda8148",
   "metadata": {
    "execution": {
     "iopub.execute_input": "2024-06-04T10:10:10.882633Z",
     "iopub.status.busy": "2024-06-04T10:10:10.882340Z",
     "iopub.status.idle": "2024-06-04T10:10:10.892888Z",
     "shell.execute_reply": "2024-06-04T10:10:10.892185Z"
    },
    "papermill": {
     "duration": 0.026739,
     "end_time": "2024-06-04T10:10:10.894778",
     "exception": false,
     "start_time": "2024-06-04T10:10:10.868039",
     "status": "completed"
    },
    "tags": []
   },
   "outputs": [],
   "source": [
    "solution_data.to_csv('submission.csv', index=False)"
   ]
  },
  {
   "cell_type": "code",
   "execution_count": null,
   "id": "cff210a1",
   "metadata": {
    "papermill": {
     "duration": 0.012738,
     "end_time": "2024-06-04T10:10:10.920868",
     "exception": false,
     "start_time": "2024-06-04T10:10:10.908130",
     "status": "completed"
    },
    "tags": []
   },
   "outputs": [],
   "source": []
  }
 ],
 "metadata": {
  "kaggle": {
   "accelerator": "nvidiaTeslaT4",
   "dataSources": [
    {
     "databundleVersionId": 3544842,
     "sourceId": 36191,
     "sourceType": "competition"
    }
   ],
   "dockerImageVersionId": 30716,
   "isGpuEnabled": true,
   "isInternetEnabled": true,
   "language": "python",
   "sourceType": "notebook"
  },
  "kernelspec": {
   "display_name": "Python 3",
   "language": "python",
   "name": "python3"
  },
  "language_info": {
   "codemirror_mode": {
    "name": "ipython",
    "version": 3
   },
   "file_extension": ".py",
   "mimetype": "text/x-python",
   "name": "python",
   "nbconvert_exporter": "python",
   "pygments_lexer": "ipython3",
   "version": "3.10.13"
  },
  "papermill": {
   "default_parameters": {},
   "duration": 20.353835,
   "end_time": "2024-06-04T10:10:11.652577",
   "environment_variables": {},
   "exception": null,
   "input_path": "__notebook__.ipynb",
   "output_path": "__notebook__.ipynb",
   "parameters": {},
   "start_time": "2024-06-04T10:09:51.298742",
   "version": "2.5.0"
  }
 },
 "nbformat": 4,
 "nbformat_minor": 5
}
