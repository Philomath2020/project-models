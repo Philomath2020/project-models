{
 "cells": [
  {
   "cell_type": "code",
   "execution_count": 1,
   "id": "8de419b5",
   "metadata": {
    "_cell_guid": "b1076dfc-b9ad-4769-8c92-a6c4dae69d19",
    "_uuid": "8f2839f25d086af736a60e9eeb907d3b93b6e0e5",
    "execution": {
     "iopub.execute_input": "2024-06-04T00:23:36.409190Z",
     "iopub.status.busy": "2024-06-04T00:23:36.408836Z",
     "iopub.status.idle": "2024-06-04T00:23:36.422646Z",
     "shell.execute_reply": "2024-06-04T00:23:36.421705Z"
    },
    "papermill": {
     "duration": 0.025709,
     "end_time": "2024-06-04T00:23:36.424662",
     "exception": false,
     "start_time": "2024-06-04T00:23:36.398953",
     "status": "completed"
    },
    "tags": []
   },
   "outputs": [
    {
     "name": "stdout",
     "output_type": "stream",
     "text": [
      "/kaggle/input/aviachipta-narxini-bashorat-qilish/train_data.csv\n",
      "/kaggle/input/aviachipta-narxini-bashorat-qilish/test_data.csv\n",
      "/kaggle/input/aviachipta-narxini-bashorat-qilish/sample_solution.csv\n"
     ]
    }
   ],
   "source": [
    "# This Python 3 environment comes with many helpful analytics libraries installed\n",
    "# It is defined by the kaggle/python Docker image: https://github.com/kaggle/docker-python\n",
    "\n",
    "# Input data files are available in the read-only \"../input/\" directory\n",
    "# For example, running this (by clicking run or pressing Shift+Enter) will list all files under the input directory\n",
    "\n",
    "import os\n",
    "for dirname, _, filenames in os.walk('/kaggle/input'):\n",
    "    for filename in filenames:\n",
    "        print(os.path.join(dirname, filename))\n",
    "\n",
    "# You can write up to 20GB to the current directory (/kaggle/working/) that gets preserved as output when you create a version using \"Save & Run All\" \n",
    "# You can also write temporary files to /kaggle/temp/, but they won't be saved outside of the current session"
   ]
  },
  {
   "cell_type": "markdown",
   "id": "9f9bfb29",
   "metadata": {
    "papermill": {
     "duration": 0.00819,
     "end_time": "2024-06-04T00:23:36.442093",
     "exception": false,
     "start_time": "2024-06-04T00:23:36.433903",
     "status": "completed"
    },
    "tags": []
   },
   "source": [
    "Kutubxonlarni chaqirish"
   ]
  },
  {
   "cell_type": "code",
   "execution_count": 2,
   "id": "14b9e3cd",
   "metadata": {
    "execution": {
     "iopub.execute_input": "2024-06-04T00:23:36.460793Z",
     "iopub.status.busy": "2024-06-04T00:23:36.460070Z",
     "iopub.status.idle": "2024-06-04T00:23:38.897657Z",
     "shell.execute_reply": "2024-06-04T00:23:38.896930Z"
    },
    "papermill": {
     "duration": 2.449432,
     "end_time": "2024-06-04T00:23:38.900040",
     "exception": false,
     "start_time": "2024-06-04T00:23:36.450608",
     "status": "completed"
    },
    "tags": []
   },
   "outputs": [],
   "source": [
    "import numpy as np # linear algebra\n",
    "import pandas as pd # data processing, CSV file I/O (e.g. pd.read_csv)\n",
    "import sklearn # ML models\n",
    "import matplotlib.pyplot as plt # graphic visualisetion\n",
    "import seaborn as sns"
   ]
  },
  {
   "cell_type": "markdown",
   "id": "7838d73a",
   "metadata": {
    "papermill": {
     "duration": 0.008415,
     "end_time": "2024-06-04T00:23:38.917262",
     "exception": false,
     "start_time": "2024-06-04T00:23:38.908847",
     "status": "completed"
    },
    "tags": []
   },
   "source": [
    "Malumotni yuklash va o'rganish"
   ]
  },
  {
   "cell_type": "code",
   "execution_count": 3,
   "id": "e91669c7",
   "metadata": {
    "execution": {
     "iopub.execute_input": "2024-06-04T00:23:38.934577Z",
     "iopub.status.busy": "2024-06-04T00:23:38.934153Z",
     "iopub.status.idle": "2024-06-04T00:23:39.043656Z",
     "shell.execute_reply": "2024-06-04T00:23:39.042743Z"
    },
    "papermill": {
     "duration": 0.120668,
     "end_time": "2024-06-04T00:23:39.046006",
     "exception": false,
     "start_time": "2024-06-04T00:23:38.925338",
     "status": "completed"
    },
    "tags": []
   },
   "outputs": [
    {
     "data": {
      "text/html": [
       "<div>\n",
       "<style scoped>\n",
       "    .dataframe tbody tr th:only-of-type {\n",
       "        vertical-align: middle;\n",
       "    }\n",
       "\n",
       "    .dataframe tbody tr th {\n",
       "        vertical-align: top;\n",
       "    }\n",
       "\n",
       "    .dataframe thead th {\n",
       "        text-align: right;\n",
       "    }\n",
       "</style>\n",
       "<table border=\"1\" class=\"dataframe\">\n",
       "  <thead>\n",
       "    <tr style=\"text-align: right;\">\n",
       "      <th></th>\n",
       "      <th>airline</th>\n",
       "      <th>flight</th>\n",
       "      <th>source_city</th>\n",
       "      <th>departure_time</th>\n",
       "      <th>stops</th>\n",
       "      <th>arrival_time</th>\n",
       "      <th>destination_city</th>\n",
       "      <th>class</th>\n",
       "      <th>duration</th>\n",
       "      <th>days_left</th>\n",
       "      <th>price</th>\n",
       "    </tr>\n",
       "    <tr>\n",
       "      <th>id</th>\n",
       "      <th></th>\n",
       "      <th></th>\n",
       "      <th></th>\n",
       "      <th></th>\n",
       "      <th></th>\n",
       "      <th></th>\n",
       "      <th></th>\n",
       "      <th></th>\n",
       "      <th></th>\n",
       "      <th></th>\n",
       "      <th></th>\n",
       "    </tr>\n",
       "  </thead>\n",
       "  <tbody>\n",
       "    <tr>\n",
       "      <th>1</th>\n",
       "      <td>Vistara</td>\n",
       "      <td>UK-810</td>\n",
       "      <td>Bangalore</td>\n",
       "      <td>Early_Morning</td>\n",
       "      <td>one</td>\n",
       "      <td>Night</td>\n",
       "      <td>Mumbai</td>\n",
       "      <td>Economy</td>\n",
       "      <td>14.25</td>\n",
       "      <td>21</td>\n",
       "      <td>7212</td>\n",
       "    </tr>\n",
       "    <tr>\n",
       "      <th>2</th>\n",
       "      <td>SpiceJet</td>\n",
       "      <td>SG-5094</td>\n",
       "      <td>Hyderabad</td>\n",
       "      <td>Evening</td>\n",
       "      <td>zero</td>\n",
       "      <td>Night</td>\n",
       "      <td>Kolkata</td>\n",
       "      <td>Economy</td>\n",
       "      <td>1.75</td>\n",
       "      <td>7</td>\n",
       "      <td>5292</td>\n",
       "    </tr>\n",
       "    <tr>\n",
       "      <th>3</th>\n",
       "      <td>Vistara</td>\n",
       "      <td>UK-846</td>\n",
       "      <td>Bangalore</td>\n",
       "      <td>Morning</td>\n",
       "      <td>one</td>\n",
       "      <td>Evening</td>\n",
       "      <td>Delhi</td>\n",
       "      <td>Business</td>\n",
       "      <td>9.58</td>\n",
       "      <td>5</td>\n",
       "      <td>60553</td>\n",
       "    </tr>\n",
       "    <tr>\n",
       "      <th>4</th>\n",
       "      <td>Vistara</td>\n",
       "      <td>UK-706</td>\n",
       "      <td>Kolkata</td>\n",
       "      <td>Morning</td>\n",
       "      <td>one</td>\n",
       "      <td>Evening</td>\n",
       "      <td>Hyderabad</td>\n",
       "      <td>Economy</td>\n",
       "      <td>6.75</td>\n",
       "      <td>28</td>\n",
       "      <td>5760</td>\n",
       "    </tr>\n",
       "    <tr>\n",
       "      <th>5</th>\n",
       "      <td>Indigo</td>\n",
       "      <td>6E-5394</td>\n",
       "      <td>Chennai</td>\n",
       "      <td>Early_Morning</td>\n",
       "      <td>zero</td>\n",
       "      <td>Morning</td>\n",
       "      <td>Mumbai</td>\n",
       "      <td>Economy</td>\n",
       "      <td>2.00</td>\n",
       "      <td>4</td>\n",
       "      <td>10712</td>\n",
       "    </tr>\n",
       "    <tr>\n",
       "      <th>6</th>\n",
       "      <td>Air_India</td>\n",
       "      <td>AI-636</td>\n",
       "      <td>Delhi</td>\n",
       "      <td>Afternoon</td>\n",
       "      <td>one</td>\n",
       "      <td>Morning</td>\n",
       "      <td>Chennai</td>\n",
       "      <td>Business</td>\n",
       "      <td>20.42</td>\n",
       "      <td>5</td>\n",
       "      <td>45257</td>\n",
       "    </tr>\n",
       "    <tr>\n",
       "      <th>7</th>\n",
       "      <td>Vistara</td>\n",
       "      <td>UK-834</td>\n",
       "      <td>Chennai</td>\n",
       "      <td>Evening</td>\n",
       "      <td>one</td>\n",
       "      <td>Morning</td>\n",
       "      <td>Mumbai</td>\n",
       "      <td>Economy</td>\n",
       "      <td>18.42</td>\n",
       "      <td>20</td>\n",
       "      <td>5054</td>\n",
       "    </tr>\n",
       "  </tbody>\n",
       "</table>\n",
       "</div>"
      ],
      "text/plain": [
       "      airline   flight source_city departure_time stops arrival_time  \\\n",
       "id                                                                     \n",
       "1     Vistara   UK-810   Bangalore  Early_Morning   one        Night   \n",
       "2    SpiceJet  SG-5094   Hyderabad        Evening  zero        Night   \n",
       "3     Vistara   UK-846   Bangalore        Morning   one      Evening   \n",
       "4     Vistara   UK-706     Kolkata        Morning   one      Evening   \n",
       "5      Indigo  6E-5394     Chennai  Early_Morning  zero      Morning   \n",
       "6   Air_India   AI-636       Delhi      Afternoon   one      Morning   \n",
       "7     Vistara   UK-834     Chennai        Evening   one      Morning   \n",
       "\n",
       "   destination_city     class  duration  days_left  price  \n",
       "id                                                         \n",
       "1            Mumbai   Economy     14.25         21   7212  \n",
       "2           Kolkata   Economy      1.75          7   5292  \n",
       "3             Delhi  Business      9.58          5  60553  \n",
       "4         Hyderabad   Economy      6.75         28   5760  \n",
       "5            Mumbai   Economy      2.00          4  10712  \n",
       "6           Chennai  Business     20.42          5  45257  \n",
       "7            Mumbai   Economy     18.42         20   5054  "
      ]
     },
     "execution_count": 3,
     "metadata": {},
     "output_type": "execute_result"
    }
   ],
   "source": [
    "data = pd.read_csv('/kaggle/input/aviachipta-narxini-bashorat-qilish/train_data.csv', index_col=0)\n",
    "data.head(7)"
   ]
  },
  {
   "cell_type": "code",
   "execution_count": 4,
   "id": "cf21e3c1",
   "metadata": {
    "execution": {
     "iopub.execute_input": "2024-06-04T00:23:39.064678Z",
     "iopub.status.busy": "2024-06-04T00:23:39.064409Z",
     "iopub.status.idle": "2024-06-04T00:23:39.099635Z",
     "shell.execute_reply": "2024-06-04T00:23:39.098585Z"
    },
    "papermill": {
     "duration": 0.046712,
     "end_time": "2024-06-04T00:23:39.101820",
     "exception": false,
     "start_time": "2024-06-04T00:23:39.055108",
     "status": "completed"
    },
    "tags": []
   },
   "outputs": [
    {
     "name": "stdout",
     "output_type": "stream",
     "text": [
      "<class 'pandas.core.frame.DataFrame'>\n",
      "Index: 20000 entries, 1 to 20000\n",
      "Data columns (total 11 columns):\n",
      " #   Column            Non-Null Count  Dtype  \n",
      "---  ------            --------------  -----  \n",
      " 0   airline           20000 non-null  object \n",
      " 1   flight            20000 non-null  object \n",
      " 2   source_city       20000 non-null  object \n",
      " 3   departure_time    20000 non-null  object \n",
      " 4   stops             20000 non-null  object \n",
      " 5   arrival_time      20000 non-null  object \n",
      " 6   destination_city  20000 non-null  object \n",
      " 7   class             20000 non-null  object \n",
      " 8   duration          20000 non-null  float64\n",
      " 9   days_left         20000 non-null  int64  \n",
      " 10  price             20000 non-null  int64  \n",
      "dtypes: float64(1), int64(2), object(8)\n",
      "memory usage: 1.8+ MB\n"
     ]
    }
   ],
   "source": [
    "data.info() # nan qiymatlar yo'q , Categorical ustunlarni o'zgartirish kerak"
   ]
  },
  {
   "cell_type": "code",
   "execution_count": 5,
   "id": "644581e5",
   "metadata": {
    "execution": {
     "iopub.execute_input": "2024-06-04T00:23:39.122196Z",
     "iopub.status.busy": "2024-06-04T00:23:39.121942Z",
     "iopub.status.idle": "2024-06-04T00:23:39.144456Z",
     "shell.execute_reply": "2024-06-04T00:23:39.143589Z"
    },
    "papermill": {
     "duration": 0.034712,
     "end_time": "2024-06-04T00:23:39.146514",
     "exception": false,
     "start_time": "2024-06-04T00:23:39.111802",
     "status": "completed"
    },
    "tags": []
   },
   "outputs": [
    {
     "data": {
      "text/html": [
       "<div>\n",
       "<style scoped>\n",
       "    .dataframe tbody tr th:only-of-type {\n",
       "        vertical-align: middle;\n",
       "    }\n",
       "\n",
       "    .dataframe tbody tr th {\n",
       "        vertical-align: top;\n",
       "    }\n",
       "\n",
       "    .dataframe thead th {\n",
       "        text-align: right;\n",
       "    }\n",
       "</style>\n",
       "<table border=\"1\" class=\"dataframe\">\n",
       "  <thead>\n",
       "    <tr style=\"text-align: right;\">\n",
       "      <th></th>\n",
       "      <th>count</th>\n",
       "      <th>mean</th>\n",
       "      <th>std</th>\n",
       "      <th>min</th>\n",
       "      <th>25%</th>\n",
       "      <th>50%</th>\n",
       "      <th>75%</th>\n",
       "      <th>max</th>\n",
       "    </tr>\n",
       "  </thead>\n",
       "  <tbody>\n",
       "    <tr>\n",
       "      <th>duration</th>\n",
       "      <td>20000.0</td>\n",
       "      <td>12.177627</td>\n",
       "      <td>7.157944</td>\n",
       "      <td>0.83</td>\n",
       "      <td>6.83</td>\n",
       "      <td>11.25</td>\n",
       "      <td>16.08</td>\n",
       "      <td>38.58</td>\n",
       "    </tr>\n",
       "    <tr>\n",
       "      <th>days_left</th>\n",
       "      <td>20000.0</td>\n",
       "      <td>25.924150</td>\n",
       "      <td>13.624874</td>\n",
       "      <td>1.00</td>\n",
       "      <td>14.00</td>\n",
       "      <td>26.00</td>\n",
       "      <td>38.00</td>\n",
       "      <td>49.00</td>\n",
       "    </tr>\n",
       "    <tr>\n",
       "      <th>price</th>\n",
       "      <td>20000.0</td>\n",
       "      <td>20960.281700</td>\n",
       "      <td>22775.459535</td>\n",
       "      <td>1105.00</td>\n",
       "      <td>4783.00</td>\n",
       "      <td>7425.00</td>\n",
       "      <td>42521.00</td>\n",
       "      <td>114523.00</td>\n",
       "    </tr>\n",
       "  </tbody>\n",
       "</table>\n",
       "</div>"
      ],
      "text/plain": [
       "             count          mean           std      min      25%      50%  \\\n",
       "duration   20000.0     12.177627      7.157944     0.83     6.83    11.25   \n",
       "days_left  20000.0     25.924150     13.624874     1.00    14.00    26.00   \n",
       "price      20000.0  20960.281700  22775.459535  1105.00  4783.00  7425.00   \n",
       "\n",
       "                75%        max  \n",
       "duration      16.08      38.58  \n",
       "days_left     38.00      49.00  \n",
       "price      42521.00  114523.00  "
      ]
     },
     "execution_count": 5,
     "metadata": {},
     "output_type": "execute_result"
    }
   ],
   "source": [
    "data.describe().T"
   ]
  },
  {
   "cell_type": "code",
   "execution_count": 6,
   "id": "36341db1",
   "metadata": {
    "execution": {
     "iopub.execute_input": "2024-06-04T00:23:39.165822Z",
     "iopub.status.busy": "2024-06-04T00:23:39.165576Z",
     "iopub.status.idle": "2024-06-04T00:23:39.174025Z",
     "shell.execute_reply": "2024-06-04T00:23:39.173266Z"
    },
    "papermill": {
     "duration": 0.020043,
     "end_time": "2024-06-04T00:23:39.176050",
     "exception": false,
     "start_time": "2024-06-04T00:23:39.156007",
     "status": "completed"
    },
    "tags": []
   },
   "outputs": [],
   "source": [
    "# flight ustunini taslab yuboramiz, predictionga tasir qilmaydi\n",
    "data.drop(['flight'], axis=1, inplace=True) "
   ]
  },
  {
   "cell_type": "markdown",
   "id": "fe0d4e0b",
   "metadata": {
    "papermill": {
     "duration": 0.009336,
     "end_time": "2024-06-04T00:23:39.194739",
     "exception": false,
     "start_time": "2024-06-04T00:23:39.185403",
     "status": "completed"
    },
    "tags": []
   },
   "source": [
    "Visualisation and Preparetion"
   ]
  },
  {
   "cell_type": "code",
   "execution_count": 7,
   "id": "749aac3b",
   "metadata": {
    "execution": {
     "iopub.execute_input": "2024-06-04T00:23:39.213091Z",
     "iopub.status.busy": "2024-06-04T00:23:39.212850Z",
     "iopub.status.idle": "2024-06-04T00:23:39.656031Z",
     "shell.execute_reply": "2024-06-04T00:23:39.654986Z"
    },
    "papermill": {
     "duration": 0.455342,
     "end_time": "2024-06-04T00:23:39.658410",
     "exception": false,
     "start_time": "2024-06-04T00:23:39.203068",
     "status": "completed"
    },
    "tags": []
   },
   "outputs": [
    {
     "name": "stderr",
     "output_type": "stream",
     "text": [
      "/opt/conda/lib/python3.10/site-packages/seaborn/_oldcore.py:1119: FutureWarning: use_inf_as_na option is deprecated and will be removed in a future version. Convert inf values to NaN before operating instead.\n",
      "  with pd.option_context('mode.use_inf_as_na', True):\n"
     ]
    },
    {
     "data": {
      "image/png": "[encoded data removed]",
      "text/plain": [
       "<Figure size 900x500 with 1 Axes>"
      ]
     },
     "metadata": {},
     "output_type": "display_data"
    }
   ],
   "source": [
    "# histplot yordamida Aviachipta narxlari grafikasi chizish\n",
    "plt.figure(figsize=(9,5))\n",
    "sns.histplot(data.price)\n",
    "plt.title('Aviachipta narxlari grafikasi')\n",
    "plt.xticks(rotation=90)\n",
    "plt.show()"
   ]
  },
  {
   "cell_type": "code",
   "execution_count": 8,
   "id": "eb7adcab",
   "metadata": {
    "execution": {
     "iopub.execute_input": "2024-06-04T00:23:39.680985Z",
     "iopub.status.busy": "2024-06-04T00:23:39.680621Z",
     "iopub.status.idle": "2024-06-04T00:23:39.688704Z",
     "shell.execute_reply": "2024-06-04T00:23:39.687799Z"
    },
    "papermill": {
     "duration": 0.020723,
     "end_time": "2024-06-04T00:23:39.690973",
     "exception": false,
     "start_time": "2024-06-04T00:23:39.670250",
     "status": "completed"
    },
    "tags": []
   },
   "outputs": [],
   "source": [
    "#chipta narxi 70000 dan kam bo'lgan qatorlarni tashlab yuboramiz\n",
    "df = data[data['price'] < 70000]"
   ]
  },
  {
   "cell_type": "code",
   "execution_count": 9,
   "id": "ee7bdc10",
   "metadata": {
    "execution": {
     "iopub.execute_input": "2024-06-04T00:23:39.710933Z",
     "iopub.status.busy": "2024-06-04T00:23:39.710661Z",
     "iopub.status.idle": "2024-06-04T00:23:40.364207Z",
     "shell.execute_reply": "2024-06-04T00:23:40.363264Z"
    },
    "papermill": {
     "duration": 0.665853,
     "end_time": "2024-06-04T00:23:40.366523",
     "exception": false,
     "start_time": "2024-06-04T00:23:39.700670",
     "status": "completed"
    },
    "tags": []
   },
   "outputs": [
    {
     "name": "stderr",
     "output_type": "stream",
     "text": [
      "/opt/conda/lib/python3.10/site-packages/seaborn/_oldcore.py:1119: FutureWarning: use_inf_as_na option is deprecated and will be removed in a future version. Convert inf values to NaN before operating instead.\n",
      "  with pd.option_context('mode.use_inf_as_na', True):\n"
     ]
    },
    {
     "data": {
      "image/png": "[encoded data removed]",
      "text/plain": [
       "<Figure size 1200x600 with 1 Axes>"
      ]
     },
     "metadata": {},
     "output_type": "display_data"
    }
   ],
   "source": [
    "# displot yordamida Distribution va KDE jamlab Aviachipta narxlari grafikasi chizish\n",
    "sns.displot(data=df, x='price', kde=True, height=6, aspect=2)\n",
    "plt.title('Aviachipta narxlari grafikasi')\n",
    "plt.xticks(rotation=90)\n",
    "plt.show()"
   ]
  },
  {
   "cell_type": "markdown",
   "id": "f28c3b85",
   "metadata": {
    "papermill": {
     "duration": 0.010109,
     "end_time": "2024-06-04T00:23:40.388204",
     "exception": false,
     "start_time": "2024-06-04T00:23:40.378095",
     "status": "completed"
    },
    "tags": []
   },
   "source": [
    "Preparetion for ML"
   ]
  },
  {
   "cell_type": "code",
   "execution_count": 10,
   "id": "53b0c7fd",
   "metadata": {
    "execution": {
     "iopub.execute_input": "2024-06-04T00:23:40.411229Z",
     "iopub.status.busy": "2024-06-04T00:23:40.410647Z",
     "iopub.status.idle": "2024-06-04T00:23:40.555844Z",
     "shell.execute_reply": "2024-06-04T00:23:40.554848Z"
    },
    "papermill": {
     "duration": 0.159666,
     "end_time": "2024-06-04T00:23:40.558208",
     "exception": false,
     "start_time": "2024-06-04T00:23:40.398542",
     "status": "completed"
    },
    "tags": []
   },
   "outputs": [],
   "source": [
    "# df ni train test qismga ajratish\n",
    "from sklearn.model_selection import train_test_split\n",
    "train_set, test_set = train_test_split(df, test_size=0.2 , random_state=42)\n",
    "\n",
    "#Lebelni y ga saqlab aratib olish\n",
    "X_train = train_set.drop('price', axis=1)\n",
    "Y = train_set['price'].copy()\n",
    "Y_test = test_set['price'].copy()"
   ]
  },
  {
   "cell_type": "markdown",
   "id": "02af6784",
   "metadata": {
    "papermill": {
     "duration": 0.009695,
     "end_time": "2024-06-04T00:23:40.577925",
     "exception": false,
     "start_time": "2024-06-04T00:23:40.568230",
     "status": "completed"
    },
    "tags": []
   },
   "source": [
    "Pipeline yaratish"
   ]
  },
  {
   "cell_type": "code",
   "execution_count": 11,
   "id": "08a53dfd",
   "metadata": {
    "execution": {
     "iopub.execute_input": "2024-06-04T00:23:40.599193Z",
     "iopub.status.busy": "2024-06-04T00:23:40.598885Z",
     "iopub.status.idle": "2024-06-04T00:23:40.818453Z",
     "shell.execute_reply": "2024-06-04T00:23:40.817695Z"
    },
    "papermill": {
     "duration": 0.232886,
     "end_time": "2024-06-04T00:23:40.820860",
     "exception": false,
     "start_time": "2024-06-04T00:23:40.587974",
     "status": "completed"
    },
    "tags": []
   },
   "outputs": [],
   "source": [
    "# Pipeline uchun kerakli kutubxonalar\n",
    "from sklearn.pipeline import Pipeline\n",
    "from sklearn.impute import SimpleImputer\n",
    "from sklearn.preprocessing import OneHotEncoder, StandardScaler, OrdinalEncoder\n",
    "from sklearn.compose import ColumnTransformer\n",
    "\n",
    "# sonlar bilan ishlovchi pipeline\n",
    "num_pipeline = Pipeline([\n",
    "          ('imputer', SimpleImputer(strategy='median')),\n",
    "          ('std_scaler', StandardScaler())\n",
    "])\n",
    "\n",
    "num_attribs = ['duration', 'days_left']\n",
    "cat_attribs1 = ['source_city', 'destination_city', 'departure_time', 'stops']\n",
    "cat_attribs2 = ['class', 'airline']\n",
    "\n",
    "# full pipeline\n",
    "full_pipeline = ColumnTransformer([\n",
    "    ('num', num_pipeline, num_attribs),\n",
    "    ('cat1', OneHotEncoder(), cat_attribs1),\n",
    "    ('cat2', OrdinalEncoder(), cat_attribs2),\n",
    "])\n",
    " \n",
    "# X_train ni full pipelinedan o'tkazamiz\n",
    "X_prepared = full_pipeline.fit_transform(X_train)"
   ]
  },
  {
   "cell_type": "markdown",
   "id": "ce2edca0",
   "metadata": {
    "papermill": {
     "duration": 0.009554,
     "end_time": "2024-06-04T00:23:40.840935",
     "exception": false,
     "start_time": "2024-06-04T00:23:40.831381",
     "status": "completed"
    },
    "tags": []
   },
   "source": [
    "Machine Learning "
   ]
  },
  {
   "cell_type": "markdown",
   "id": "9624e310",
   "metadata": {
    "papermill": {
     "duration": 0.009765,
     "end_time": "2024-06-04T00:23:40.860770",
     "exception": false,
     "start_time": "2024-06-04T00:23:40.851005",
     "status": "completed"
    },
    "tags": []
   },
   "source": [
    "Linear Regression "
   ]
  },
  {
   "cell_type": "code",
   "execution_count": 12,
   "id": "ab32ab08",
   "metadata": {
    "execution": {
     "iopub.execute_input": "2024-06-04T00:23:40.882174Z",
     "iopub.status.busy": "2024-06-04T00:23:40.881886Z",
     "iopub.status.idle": "2024-06-04T00:23:40.927108Z",
     "shell.execute_reply": "2024-06-04T00:23:40.925837Z"
    },
    "papermill": {
     "duration": 0.059303,
     "end_time": "2024-06-04T00:23:40.929719",
     "exception": false,
     "start_time": "2024-06-04T00:23:40.870416",
     "status": "completed"
    },
    "tags": []
   },
   "outputs": [
    {
     "data": {
      "text/html": [
       "<style>#sk-container-id-1 {color: black;background-color: white;}#sk-container-id-1 pre{padding: 0;}#sk-container-id-1 div.sk-toggleable {background-color: white;}#sk-container-id-1 label.sk-toggleable__label {cursor: pointer;display: block;width: 100%;margin-bottom: 0;padding: 0.3em;box-sizing: border-box;text-align: center;}#sk-container-id-1 label.sk-toggleable__label-arrow:before {content: \"▸\";float: left;margin-right: 0.25em;color: #696969;}#sk-container-id-1 label.sk-toggleable__label-arrow:hover:before {color: black;}#sk-container-id-1 div.sk-estimator:hover label.sk-toggleable__label-arrow:before {color: black;}#sk-container-id-1 div.sk-toggleable__content {max-height: 0;max-width: 0;overflow: hidden;text-align: left;background-color: #f0f8ff;}#sk-container-id-1 div.sk-toggleable__content pre {margin: 0.2em;color: black;border-radius: 0.25em;background-color: #f0f8ff;}#sk-container-id-1 input.sk-toggleable__control:checked~div.sk-toggleable__content {max-height: 200px;max-width: 100%;overflow: auto;}#sk-container-id-1 input.sk-toggleable__control:checked~label.sk-toggleable__label-arrow:before {content: \"▾\";}#sk-container-id-1 div.sk-estimator input.sk-toggleable__control:checked~label.sk-toggleable__label {background-color: #d4ebff;}#sk-container-id-1 div.sk-label input.sk-toggleable__control:checked~label.sk-toggleable__label {background-color: #d4ebff;}#sk-container-id-1 input.sk-hidden--visually {border: 0;clip: rect(1px 1px 1px 1px);clip: rect(1px, 1px, 1px, 1px);height: 1px;margin: -1px;overflow: hidden;padding: 0;position: absolute;width: 1px;}#sk-container-id-1 div.sk-estimator {font-family: monospace;background-color: #f0f8ff;border: 1px dotted black;border-radius: 0.25em;box-sizing: border-box;margin-bottom: 0.5em;}#sk-container-id-1 div.sk-estimator:hover {background-color: #d4ebff;}#sk-container-id-1 div.sk-parallel-item::after {content: \"\";width: 100%;border-bottom: 1px solid gray;flex-grow: 1;}#sk-container-id-1 div.sk-label:hover label.sk-toggleable__label {background-color: #d4ebff;}#sk-container-id-1 div.sk-serial::before {content: \"\";position: absolute;border-left: 1px solid gray;box-sizing: border-box;top: 0;bottom: 0;left: 50%;z-index: 0;}#sk-container-id-1 div.sk-serial {display: flex;flex-direction: column;align-items: center;background-color: white;padding-right: 0.2em;padding-left: 0.2em;position: relative;}#sk-container-id-1 div.sk-item {position: relative;z-index: 1;}#sk-container-id-1 div.sk-parallel {display: flex;align-items: stretch;justify-content: center;background-color: white;position: relative;}#sk-container-id-1 div.sk-item::before, #sk-container-id-1 div.sk-parallel-item::before {content: \"\";position: absolute;border-left: 1px solid gray;box-sizing: border-box;top: 0;bottom: 0;left: 50%;z-index: -1;}#sk-container-id-1 div.sk-parallel-item {display: flex;flex-direction: column;z-index: 1;position: relative;background-color: white;}#sk-container-id-1 div.sk-parallel-item:first-child::after {align-self: flex-end;width: 50%;}#sk-container-id-1 div.sk-parallel-item:last-child::after {align-self: flex-start;width: 50%;}#sk-container-id-1 div.sk-parallel-item:only-child::after {width: 0;}#sk-container-id-1 div.sk-dashed-wrapped {border: 1px dashed gray;margin: 0 0.4em 0.5em 0.4em;box-sizing: border-box;padding-bottom: 0.4em;background-color: white;}#sk-container-id-1 div.sk-label label {font-family: monospace;font-weight: bold;display: inline-block;line-height: 1.2em;}#sk-container-id-1 div.sk-label-container {text-align: center;}#sk-container-id-1 div.sk-container {/* jupyter's `normalize.less` sets `[hidden] { display: none; }` but bootstrap.min.css set `[hidden] { display: none !important; }` so we also need the `!important` here to be able to override the default hidden behavior on the sphinx rendered scikit-learn.org. See: https://github.com/scikit-learn/scikit-learn/issues/21755 */display: inline-block !important;position: relative;}#sk-container-id-1 div.sk-text-repr-fallback {display: none;}</style><div id=\"sk-container-id-1\" class=\"sk-top-container\"><div class=\"sk-text-repr-fallback\"><pre>LinearRegression()</pre><b>In a Jupyter environment, please rerun this cell to show the HTML representation or trust the notebook. <br />On GitHub, the HTML representation is unable to render, please try loading this page with nbviewer.org.</b></div><div class=\"sk-container\" hidden><div class=\"sk-item\"><div class=\"sk-estimator sk-toggleable\"><input class=\"sk-toggleable__control sk-hidden--visually\" id=\"sk-estimator-id-1\" type=\"checkbox\" checked><label for=\"sk-estimator-id-1\" class=\"sk-toggleable__label sk-toggleable__label-arrow\">LinearRegression</label><div class=\"sk-toggleable__content\"><pre>LinearRegression()</pre></div></div></div></div></div>"
      ],
      "text/plain": [
       "LinearRegression()"
      ]
     },
     "execution_count": 12,
     "metadata": {},
     "output_type": "execute_result"
    }
   ],
   "source": [
    "from sklearn.linear_model import LinearRegression\n",
    "\n",
    "LR_model = LinearRegression()\n",
    "LR_model.fit(X_prepared, Y)"
   ]
  },
  {
   "cell_type": "markdown",
   "id": "f8a3d617",
   "metadata": {
    "papermill": {
     "duration": 0.022305,
     "end_time": "2024-06-04T00:23:40.974973",
     "exception": false,
     "start_time": "2024-06-04T00:23:40.952668",
     "status": "completed"
    },
    "tags": []
   },
   "source": [
    "Modelni baholaymiz"
   ]
  },
  {
   "cell_type": "code",
   "execution_count": 13,
   "id": "8df86e4b",
   "metadata": {
    "execution": {
     "iopub.execute_input": "2024-06-04T00:23:41.020592Z",
     "iopub.status.busy": "2024-06-04T00:23:41.020063Z",
     "iopub.status.idle": "2024-06-04T00:23:41.054439Z",
     "shell.execute_reply": "2024-06-04T00:23:41.053279Z"
    },
    "papermill": {
     "duration": 0.059951,
     "end_time": "2024-06-04T00:23:41.057575",
     "exception": false,
     "start_time": "2024-06-04T00:23:40.997624",
     "status": "completed"
    },
    "tags": []
   },
   "outputs": [],
   "source": [
    "X_test = test_set.drop('price', axis=1)\n",
    "X_test_prepared = full_pipeline.transform(X_test)\n",
    "\n",
    "y_predicted = LR_model.predict(X_test_prepared)"
   ]
  },
  {
   "cell_type": "code",
   "execution_count": 14,
   "id": "9cacc672",
   "metadata": {
    "execution": {
     "iopub.execute_input": "2024-06-04T00:23:41.101983Z",
     "iopub.status.busy": "2024-06-04T00:23:41.101471Z",
     "iopub.status.idle": "2024-06-04T00:23:41.109743Z",
     "shell.execute_reply": "2024-06-04T00:23:41.108772Z"
    },
    "papermill": {
     "duration": 0.036457,
     "end_time": "2024-06-04T00:23:41.115451",
     "exception": false,
     "start_time": "2024-06-04T00:23:41.078994",
     "status": "completed"
    },
    "tags": []
   },
   "outputs": [
    {
     "name": "stdout",
     "output_type": "stream",
     "text": [
      "5882.440646649982\n"
     ]
    }
   ],
   "source": [
    "from sklearn.metrics import mean_squared_error\n",
    "lin_mse = mean_squared_error(Y_test, y_predicted)\n",
    "# RMSE hisoblaymiz\n",
    "lin_rmse = np.sqrt(lin_mse)\n",
    "print(lin_rmse)"
   ]
  },
  {
   "cell_type": "markdown",
   "id": "77252ea0",
   "metadata": {
    "papermill": {
     "duration": 0.022101,
     "end_time": "2024-06-04T00:23:41.161369",
     "exception": false,
     "start_time": "2024-06-04T00:23:41.139268",
     "status": "completed"
    },
    "tags": []
   },
   "source": [
    "Random Forest"
   ]
  },
  {
   "cell_type": "code",
   "execution_count": 15,
   "id": "dfe1a3e7",
   "metadata": {
    "execution": {
     "iopub.execute_input": "2024-06-04T00:23:41.196990Z",
     "iopub.status.busy": "2024-06-04T00:23:41.196727Z",
     "iopub.status.idle": "2024-06-04T00:23:46.145988Z",
     "shell.execute_reply": "2024-06-04T00:23:46.145054Z"
    },
    "papermill": {
     "duration": 4.964106,
     "end_time": "2024-06-04T00:23:46.148132",
     "exception": false,
     "start_time": "2024-06-04T00:23:41.184026",
     "status": "completed"
    },
    "tags": []
   },
   "outputs": [
    {
     "data": {
      "text/html": [
       "<style>#sk-container-id-2 {color: black;background-color: white;}#sk-container-id-2 pre{padding: 0;}#sk-container-id-2 div.sk-toggleable {background-color: white;}#sk-container-id-2 label.sk-toggleable__label {cursor: pointer;display: block;width: 100%;margin-bottom: 0;padding: 0.3em;box-sizing: border-box;text-align: center;}#sk-container-id-2 label.sk-toggleable__label-arrow:before {content: \"▸\";float: left;margin-right: 0.25em;color: #696969;}#sk-container-id-2 label.sk-toggleable__label-arrow:hover:before {color: black;}#sk-container-id-2 div.sk-estimator:hover label.sk-toggleable__label-arrow:before {color: black;}#sk-container-id-2 div.sk-toggleable__content {max-height: 0;max-width: 0;overflow: hidden;text-align: left;background-color: #f0f8ff;}#sk-container-id-2 div.sk-toggleable__content pre {margin: 0.2em;color: black;border-radius: 0.25em;background-color: #f0f8ff;}#sk-container-id-2 input.sk-toggleable__control:checked~div.sk-toggleable__content {max-height: 200px;max-width: 100%;overflow: auto;}#sk-container-id-2 input.sk-toggleable__control:checked~label.sk-toggleable__label-arrow:before {content: \"▾\";}#sk-container-id-2 div.sk-estimator input.sk-toggleable__control:checked~label.sk-toggleable__label {background-color: #d4ebff;}#sk-container-id-2 div.sk-label input.sk-toggleable__control:checked~label.sk-toggleable__label {background-color: #d4ebff;}#sk-container-id-2 input.sk-hidden--visually {border: 0;clip: rect(1px 1px 1px 1px);clip: rect(1px, 1px, 1px, 1px);height: 1px;margin: -1px;overflow: hidden;padding: 0;position: absolute;width: 1px;}#sk-container-id-2 div.sk-estimator {font-family: monospace;background-color: #f0f8ff;border: 1px dotted black;border-radius: 0.25em;box-sizing: border-box;margin-bottom: 0.5em;}#sk-container-id-2 div.sk-estimator:hover {background-color: #d4ebff;}#sk-container-id-2 div.sk-parallel-item::after {content: \"\";width: 100%;border-bottom: 1px solid gray;flex-grow: 1;}#sk-container-id-2 div.sk-label:hover label.sk-toggleable__label {background-color: #d4ebff;}#sk-container-id-2 div.sk-serial::before {content: \"\";position: absolute;border-left: 1px solid gray;box-sizing: border-box;top: 0;bottom: 0;left: 50%;z-index: 0;}#sk-container-id-2 div.sk-serial {display: flex;flex-direction: column;align-items: center;background-color: white;padding-right: 0.2em;padding-left: 0.2em;position: relative;}#sk-container-id-2 div.sk-item {position: relative;z-index: 1;}#sk-container-id-2 div.sk-parallel {display: flex;align-items: stretch;justify-content: center;background-color: white;position: relative;}#sk-container-id-2 div.sk-item::before, #sk-container-id-2 div.sk-parallel-item::before {content: \"\";position: absolute;border-left: 1px solid gray;box-sizing: border-box;top: 0;bottom: 0;left: 50%;z-index: -1;}#sk-container-id-2 div.sk-parallel-item {display: flex;flex-direction: column;z-index: 1;position: relative;background-color: white;}#sk-container-id-2 div.sk-parallel-item:first-child::after {align-self: flex-end;width: 50%;}#sk-container-id-2 div.sk-parallel-item:last-child::after {align-self: flex-start;width: 50%;}#sk-container-id-2 div.sk-parallel-item:only-child::after {width: 0;}#sk-container-id-2 div.sk-dashed-wrapped {border: 1px dashed gray;margin: 0 0.4em 0.5em 0.4em;box-sizing: border-box;padding-bottom: 0.4em;background-color: white;}#sk-container-id-2 div.sk-label label {font-family: monospace;font-weight: bold;display: inline-block;line-height: 1.2em;}#sk-container-id-2 div.sk-label-container {text-align: center;}#sk-container-id-2 div.sk-container {/* jupyter's `normalize.less` sets `[hidden] { display: none; }` but bootstrap.min.css set `[hidden] { display: none !important; }` so we also need the `!important` here to be able to override the default hidden behavior on the sphinx rendered scikit-learn.org. See: https://github.com/scikit-learn/scikit-learn/issues/21755 */display: inline-block !important;position: relative;}#sk-container-id-2 div.sk-text-repr-fallback {display: none;}</style><div id=\"sk-container-id-2\" class=\"sk-top-container\"><div class=\"sk-text-repr-fallback\"><pre>RandomForestRegressor()</pre><b>In a Jupyter environment, please rerun this cell to show the HTML representation or trust the notebook. <br />On GitHub, the HTML representation is unable to render, please try loading this page with nbviewer.org.</b></div><div class=\"sk-container\" hidden><div class=\"sk-item\"><div class=\"sk-estimator sk-toggleable\"><input class=\"sk-toggleable__control sk-hidden--visually\" id=\"sk-estimator-id-2\" type=\"checkbox\" checked><label for=\"sk-estimator-id-2\" class=\"sk-toggleable__label sk-toggleable__label-arrow\">RandomForestRegressor</label><div class=\"sk-toggleable__content\"><pre>RandomForestRegressor()</pre></div></div></div></div></div>"
      ],
      "text/plain": [
       "RandomForestRegressor()"
      ]
     },
     "execution_count": 15,
     "metadata": {},
     "output_type": "execute_result"
    }
   ],
   "source": [
    "from sklearn.ensemble import RandomForestRegressor\n",
    "RF_model = RandomForestRegressor()\n",
    "RF_model.fit(X_prepared, Y)"
   ]
  },
  {
   "cell_type": "code",
   "execution_count": 16,
   "id": "fe37314f",
   "metadata": {
    "execution": {
     "iopub.execute_input": "2024-06-04T00:23:46.171646Z",
     "iopub.status.busy": "2024-06-04T00:23:46.171286Z",
     "iopub.status.idle": "2024-06-04T00:23:46.274143Z",
     "shell.execute_reply": "2024-06-04T00:23:46.272979Z"
    },
    "papermill": {
     "duration": 0.117242,
     "end_time": "2024-06-04T00:23:46.276382",
     "exception": false,
     "start_time": "2024-06-04T00:23:46.159140",
     "status": "completed"
    },
    "tags": []
   },
   "outputs": [
    {
     "name": "stdout",
     "output_type": "stream",
     "text": [
      "3177.4411557321496\n"
     ]
    }
   ],
   "source": [
    "# modelni baholash\n",
    "y_predicted = RF_model.predict(X_test_prepared)\n",
    "lin_mse = mean_squared_error(Y_test, y_predicted)\n",
    "# RMSE hisoblaymiz\n",
    "lin_rmse = np.sqrt(lin_mse)\n",
    "print(lin_rmse)"
   ]
  },
  {
   "cell_type": "markdown",
   "id": "4b902fa2",
   "metadata": {
    "papermill": {
     "duration": 0.010996,
     "end_time": "2024-06-04T00:23:46.298792",
     "exception": false,
     "start_time": "2024-06-04T00:23:46.287796",
     "status": "completed"
    },
    "tags": []
   },
   "source": [
    "DecisionTree"
   ]
  },
  {
   "cell_type": "code",
   "execution_count": 17,
   "id": "7a98ae4f",
   "metadata": {
    "execution": {
     "iopub.execute_input": "2024-06-04T00:23:46.322771Z",
     "iopub.status.busy": "2024-06-04T00:23:46.322446Z",
     "iopub.status.idle": "2024-06-04T00:23:46.403754Z",
     "shell.execute_reply": "2024-06-04T00:23:46.402787Z"
    },
    "papermill": {
     "duration": 0.095712,
     "end_time": "2024-06-04T00:23:46.405826",
     "exception": false,
     "start_time": "2024-06-04T00:23:46.310114",
     "status": "completed"
    },
    "tags": []
   },
   "outputs": [
    {
     "data": {
      "text/html": [
       "<style>#sk-container-id-3 {color: black;background-color: white;}#sk-container-id-3 pre{padding: 0;}#sk-container-id-3 div.sk-toggleable {background-color: white;}#sk-container-id-3 label.sk-toggleable__label {cursor: pointer;display: block;width: 100%;margin-bottom: 0;padding: 0.3em;box-sizing: border-box;text-align: center;}#sk-container-id-3 label.sk-toggleable__label-arrow:before {content: \"▸\";float: left;margin-right: 0.25em;color: #696969;}#sk-container-id-3 label.sk-toggleable__label-arrow:hover:before {color: black;}#sk-container-id-3 div.sk-estimator:hover label.sk-toggleable__label-arrow:before {color: black;}#sk-container-id-3 div.sk-toggleable__content {max-height: 0;max-width: 0;overflow: hidden;text-align: left;background-color: #f0f8ff;}#sk-container-id-3 div.sk-toggleable__content pre {margin: 0.2em;color: black;border-radius: 0.25em;background-color: #f0f8ff;}#sk-container-id-3 input.sk-toggleable__control:checked~div.sk-toggleable__content {max-height: 200px;max-width: 100%;overflow: auto;}#sk-container-id-3 input.sk-toggleable__control:checked~label.sk-toggleable__label-arrow:before {content: \"▾\";}#sk-container-id-3 div.sk-estimator input.sk-toggleable__control:checked~label.sk-toggleable__label {background-color: #d4ebff;}#sk-container-id-3 div.sk-label input.sk-toggleable__control:checked~label.sk-toggleable__label {background-color: #d4ebff;}#sk-container-id-3 input.sk-hidden--visually {border: 0;clip: rect(1px 1px 1px 1px);clip: rect(1px, 1px, 1px, 1px);height: 1px;margin: -1px;overflow: hidden;padding: 0;position: absolute;width: 1px;}#sk-container-id-3 div.sk-estimator {font-family: monospace;background-color: #f0f8ff;border: 1px dotted black;border-radius: 0.25em;box-sizing: border-box;margin-bottom: 0.5em;}#sk-container-id-3 div.sk-estimator:hover {background-color: #d4ebff;}#sk-container-id-3 div.sk-parallel-item::after {content: \"\";width: 100%;border-bottom: 1px solid gray;flex-grow: 1;}#sk-container-id-3 div.sk-label:hover label.sk-toggleable__label {background-color: #d4ebff;}#sk-container-id-3 div.sk-serial::before {content: \"\";position: absolute;border-left: 1px solid gray;box-sizing: border-box;top: 0;bottom: 0;left: 50%;z-index: 0;}#sk-container-id-3 div.sk-serial {display: flex;flex-direction: column;align-items: center;background-color: white;padding-right: 0.2em;padding-left: 0.2em;position: relative;}#sk-container-id-3 div.sk-item {position: relative;z-index: 1;}#sk-container-id-3 div.sk-parallel {display: flex;align-items: stretch;justify-content: center;background-color: white;position: relative;}#sk-container-id-3 div.sk-item::before, #sk-container-id-3 div.sk-parallel-item::before {content: \"\";position: absolute;border-left: 1px solid gray;box-sizing: border-box;top: 0;bottom: 0;left: 50%;z-index: -1;}#sk-container-id-3 div.sk-parallel-item {display: flex;flex-direction: column;z-index: 1;position: relative;background-color: white;}#sk-container-id-3 div.sk-parallel-item:first-child::after {align-self: flex-end;width: 50%;}#sk-container-id-3 div.sk-parallel-item:last-child::after {align-self: flex-start;width: 50%;}#sk-container-id-3 div.sk-parallel-item:only-child::after {width: 0;}#sk-container-id-3 div.sk-dashed-wrapped {border: 1px dashed gray;margin: 0 0.4em 0.5em 0.4em;box-sizing: border-box;padding-bottom: 0.4em;background-color: white;}#sk-container-id-3 div.sk-label label {font-family: monospace;font-weight: bold;display: inline-block;line-height: 1.2em;}#sk-container-id-3 div.sk-label-container {text-align: center;}#sk-container-id-3 div.sk-container {/* jupyter's `normalize.less` sets `[hidden] { display: none; }` but bootstrap.min.css set `[hidden] { display: none !important; }` so we also need the `!important` here to be able to override the default hidden behavior on the sphinx rendered scikit-learn.org. See: https://github.com/scikit-learn/scikit-learn/issues/21755 */display: inline-block !important;position: relative;}#sk-container-id-3 div.sk-text-repr-fallback {display: none;}</style><div id=\"sk-container-id-3\" class=\"sk-top-container\"><div class=\"sk-text-repr-fallback\"><pre>DecisionTreeRegressor()</pre><b>In a Jupyter environment, please rerun this cell to show the HTML representation or trust the notebook. <br />On GitHub, the HTML representation is unable to render, please try loading this page with nbviewer.org.</b></div><div class=\"sk-container\" hidden><div class=\"sk-item\"><div class=\"sk-estimator sk-toggleable\"><input class=\"sk-toggleable__control sk-hidden--visually\" id=\"sk-estimator-id-3\" type=\"checkbox\" checked><label for=\"sk-estimator-id-3\" class=\"sk-toggleable__label sk-toggleable__label-arrow\">DecisionTreeRegressor</label><div class=\"sk-toggleable__content\"><pre>DecisionTreeRegressor()</pre></div></div></div></div></div>"
      ],
      "text/plain": [
       "DecisionTreeRegressor()"
      ]
     },
     "execution_count": 17,
     "metadata": {},
     "output_type": "execute_result"
    }
   ],
   "source": [
    "from sklearn.tree import DecisionTreeRegressor\n",
    "Tree_model = DecisionTreeRegressor()\n",
    "Tree_model.fit(X_prepared, Y)"
   ]
  },
  {
   "cell_type": "code",
   "execution_count": 18,
   "id": "f971e137",
   "metadata": {
    "execution": {
     "iopub.execute_input": "2024-06-04T00:23:46.429254Z",
     "iopub.status.busy": "2024-06-04T00:23:46.428969Z",
     "iopub.status.idle": "2024-06-04T00:23:46.436396Z",
     "shell.execute_reply": "2024-06-04T00:23:46.435519Z"
    },
    "papermill": {
     "duration": 0.021692,
     "end_time": "2024-06-04T00:23:46.438275",
     "exception": false,
     "start_time": "2024-06-04T00:23:46.416583",
     "status": "completed"
    },
    "tags": []
   },
   "outputs": [
    {
     "name": "stdout",
     "output_type": "stream",
     "text": [
      "4145.742707342224\n"
     ]
    }
   ],
   "source": [
    "# modelni baholash\n",
    "y_predicted = Tree_model.predict(X_test_prepared)\n",
    "\n",
    "lin_mse = mean_squared_error(Y_test, y_predicted)\n",
    "# RMSE hisoblaymiz\n",
    "lin_rmse = np.sqrt(lin_mse)\n",
    "print(lin_rmse)"
   ]
  },
  {
   "cell_type": "markdown",
   "id": "5a5d0820",
   "metadata": {
    "papermill": {
     "duration": 0.010406,
     "end_time": "2024-06-04T00:23:46.459159",
     "exception": false,
     "start_time": "2024-06-04T00:23:46.448753",
     "status": "completed"
    },
    "tags": []
   },
   "source": [
    "Eng yaxshi natija Random Forest algaritmida : 3181.089484648247"
   ]
  },
  {
   "cell_type": "markdown",
   "id": "87b48a33",
   "metadata": {
    "papermill": {
     "duration": 0.010398,
     "end_time": "2024-06-04T00:23:46.480270",
     "exception": false,
     "start_time": "2024-06-04T00:23:46.469872",
     "status": "completed"
    },
    "tags": []
   },
   "source": [
    "Test datani yuklash"
   ]
  },
  {
   "cell_type": "code",
   "execution_count": 19,
   "id": "4d90f270",
   "metadata": {
    "execution": {
     "iopub.execute_input": "2024-06-04T00:23:46.503234Z",
     "iopub.status.busy": "2024-06-04T00:23:46.502461Z",
     "iopub.status.idle": "2024-06-04T00:23:46.655836Z",
     "shell.execute_reply": "2024-06-04T00:23:46.655026Z"
    },
    "papermill": {
     "duration": 0.167174,
     "end_time": "2024-06-04T00:23:46.658110",
     "exception": false,
     "start_time": "2024-06-04T00:23:46.490936",
     "status": "completed"
    },
    "tags": []
   },
   "outputs": [],
   "source": [
    "test_data = pd.read_csv('/kaggle/input/aviachipta-narxini-bashorat-qilish/test_data.csv', index_col=0)\n",
    "\n",
    "# test datani pipelinedan o'tkazamiz\n",
    "X_test_prepared = full_pipeline.transform(test_data)\n",
    "\n",
    "# RF model orqali predict qilamiz\n",
    "y_predicted = RF_model.predict(X_test_prepared)\n",
    "\n",
    "solution_data = pd.DataFrame({\"id\" : np.arange(1, len(y_predicted)+1), 'price': y_predicted})"
   ]
  },
  {
   "cell_type": "code",
   "execution_count": 20,
   "id": "aec897ed",
   "metadata": {
    "execution": {
     "iopub.execute_input": "2024-06-04T00:23:46.681168Z",
     "iopub.status.busy": "2024-06-04T00:23:46.680866Z",
     "iopub.status.idle": "2024-06-04T00:23:46.692579Z",
     "shell.execute_reply": "2024-06-04T00:23:46.691655Z"
    },
    "papermill": {
     "duration": 0.025458,
     "end_time": "2024-06-04T00:23:46.694588",
     "exception": false,
     "start_time": "2024-06-04T00:23:46.669130",
     "status": "completed"
    },
    "tags": []
   },
   "outputs": [
    {
     "data": {
      "text/html": [
       "<div>\n",
       "<style scoped>\n",
       "    .dataframe tbody tr th:only-of-type {\n",
       "        vertical-align: middle;\n",
       "    }\n",
       "\n",
       "    .dataframe tbody tr th {\n",
       "        vertical-align: top;\n",
       "    }\n",
       "\n",
       "    .dataframe thead th {\n",
       "        text-align: right;\n",
       "    }\n",
       "</style>\n",
       "<table border=\"1\" class=\"dataframe\">\n",
       "  <thead>\n",
       "    <tr style=\"text-align: right;\">\n",
       "      <th></th>\n",
       "      <th>price</th>\n",
       "    </tr>\n",
       "    <tr>\n",
       "      <th>id</th>\n",
       "      <th></th>\n",
       "    </tr>\n",
       "  </thead>\n",
       "  <tbody>\n",
       "    <tr>\n",
       "      <th>1</th>\n",
       "      <td>52380.61</td>\n",
       "    </tr>\n",
       "    <tr>\n",
       "      <th>2</th>\n",
       "      <td>59994.99</td>\n",
       "    </tr>\n",
       "    <tr>\n",
       "      <th>3</th>\n",
       "      <td>22636.68</td>\n",
       "    </tr>\n",
       "    <tr>\n",
       "      <th>4</th>\n",
       "      <td>2576.29</td>\n",
       "    </tr>\n",
       "    <tr>\n",
       "      <th>5</th>\n",
       "      <td>5584.40</td>\n",
       "    </tr>\n",
       "    <tr>\n",
       "      <th>...</th>\n",
       "      <td>...</td>\n",
       "    </tr>\n",
       "    <tr>\n",
       "      <th>4996</th>\n",
       "      <td>59640.35</td>\n",
       "    </tr>\n",
       "    <tr>\n",
       "      <th>4997</th>\n",
       "      <td>4390.89</td>\n",
       "    </tr>\n",
       "    <tr>\n",
       "      <th>4998</th>\n",
       "      <td>50279.54</td>\n",
       "    </tr>\n",
       "    <tr>\n",
       "      <th>4999</th>\n",
       "      <td>47293.21</td>\n",
       "    </tr>\n",
       "    <tr>\n",
       "      <th>5000</th>\n",
       "      <td>65580.28</td>\n",
       "    </tr>\n",
       "  </tbody>\n",
       "</table>\n",
       "<p>5000 rows × 1 columns</p>\n",
       "</div>"
      ],
      "text/plain": [
       "         price\n",
       "id            \n",
       "1     52380.61\n",
       "2     59994.99\n",
       "3     22636.68\n",
       "4      2576.29\n",
       "5      5584.40\n",
       "...        ...\n",
       "4996  59640.35\n",
       "4997   4390.89\n",
       "4998  50279.54\n",
       "4999  47293.21\n",
       "5000  65580.28\n",
       "\n",
       "[5000 rows x 1 columns]"
      ]
     },
     "execution_count": 20,
     "metadata": {},
     "output_type": "execute_result"
    }
   ],
   "source": [
    "# id ustunini index qilish\n",
    "solution_data.set_index('id')"
   ]
  },
  {
   "cell_type": "code",
   "execution_count": 21,
   "id": "180ca1ed",
   "metadata": {
    "execution": {
     "iopub.execute_input": "2024-06-04T00:23:46.718624Z",
     "iopub.status.busy": "2024-06-04T00:23:46.718201Z",
     "iopub.status.idle": "2024-06-04T00:23:46.737533Z",
     "shell.execute_reply": "2024-06-04T00:23:46.736813Z"
    },
    "papermill": {
     "duration": 0.033588,
     "end_time": "2024-06-04T00:23:46.739465",
     "exception": false,
     "start_time": "2024-06-04T00:23:46.705877",
     "status": "completed"
    },
    "tags": []
   },
   "outputs": [],
   "source": [
    "# csv faylga saqlash\n",
    "solution_data.to_csv('solution.csv')"
   ]
  }
 ],
 "metadata": {
  "kaggle": {
   "accelerator": "nvidiaTeslaT4",
   "dataSources": [
    {
     "databundleVersionId": 3619833,
     "sourceId": 36503,
     "sourceType": "competition"
    }
   ],
   "dockerImageVersionId": 30716,
   "isGpuEnabled": true,
   "isInternetEnabled": true,
   "language": "python",
   "sourceType": "notebook"
  },
  "kernelspec": {
   "display_name": "Python 3",
   "language": "python",
   "name": "python3"
  },
  "language_info": {
   "codemirror_mode": {
    "name": "ipython",
    "version": 3
   },
   "file_extension": ".py",
   "mimetype": "text/x-python",
   "name": "python",
   "nbconvert_exporter": "python",
   "pygments_lexer": "ipython3",
   "version": "3.10.13"
  },
  "papermill": {
   "default_parameters": {},
   "duration": 13.853069,
   "end_time": "2024-06-04T00:23:47.169220",
   "environment_variables": {},
   "exception": null,
   "input_path": "__notebook__.ipynb",
   "output_path": "__notebook__.ipynb",
   "parameters": {},
   "start_time": "2024-06-04T00:23:33.316151",
   "version": "2.5.0"
  }
 },
 "nbformat": 4,
 "nbformat_minor": 5
}
